{
 "cells": [
  {
   "cell_type": "markdown",
   "id": "03bd19d4",
   "metadata": {},
   "source": [
    "[E04] Making Lyrics Writer"
   ]
  },
  {
   "cell_type": "code",
   "execution_count": 11,
   "id": "953f9e55",
   "metadata": {},
   "outputs": [],
   "source": [
    "import glob\n",
    "import os\n",
    "import re \n",
    "import numpy as np\n",
    "import tensorflow as tf"
   ]
  },
  {
   "cell_type": "markdown",
   "id": "2e9d3814",
   "metadata": {},
   "source": [
    "1. 데이터 읽기"
   ]
  },
  {
   "cell_type": "code",
   "execution_count": 5,
   "id": "fd2cbe1f",
   "metadata": {},
   "outputs": [
    {
     "name": "stdout",
     "output_type": "stream",
     "text": [
      "데이터 크기: 187088\n",
      "Examples:\n",
      " [\"Now I've heard there was a secret chord\", 'That David played, and it pleased the Lord', \"But you don't really care for music, do you?\"]\n"
     ]
    }
   ],
   "source": [
    "txt_file_path = os.getenv('HOME')+'/aiffel/lyricist/data/lyrics/*'\n",
    "\n",
    "txt_list = glob.glob(txt_file_path)\n",
    "\n",
    "raw_corpus = []\n",
    "\n",
    "# 여러개의 txt 파일을 모두 읽어서 raw_corpus 에 담습니다.\n",
    "for txt_file in txt_list:\n",
    "    with open(txt_file, \"r\") as f:\n",
    "        raw = f.read().splitlines()\n",
    "        raw_corpus.extend(raw)\n",
    "\n",
    "print(\"데이터 크기:\", len(raw_corpus))\n",
    "print(\"Examples:\\n\", raw_corpus[:3])"
   ]
  },
  {
   "cell_type": "markdown",
   "id": "5f918c1e",
   "metadata": {},
   "source": [
    "2. 데이터 처리"
   ]
  },
  {
   "cell_type": "code",
   "execution_count": 28,
   "id": "256c4064",
   "metadata": {},
   "outputs": [
    {
     "name": "stdout",
     "output_type": "stream",
     "text": [
      "<start> now i ve heard there was a secret chord <end>\n"
     ]
    }
   ],
   "source": [
    "def preprocess_sentence(sentence):\n",
    "    sentence = sentence.lower().strip() \n",
    "    sentence = re.sub(r\"([?.!,¿])\", r\" \\1 \", sentence)  \n",
    "    sentence = re.sub(r'[\" \"]+', \" \", sentence) \n",
    "    sentence = re.sub(r\"[^a-zA-Z?.!,¿]+\", \" \", sentence) \n",
    "    sentence = sentence.strip() \n",
    "    sentence = '<start> ' + sentence + ' <end>' \n",
    "    return sentence\n",
    "\n",
    "print(preprocess_sentence(raw_corpus[0]))"
   ]
  },
  {
   "cell_type": "markdown",
   "id": "4b222a95",
   "metadata": {},
   "source": [
    "- 데이터 정제\n",
    "1. 소문자로 바꾸고, 양쪽 공백을 지우기\n",
    "2. 특수문자 양쪽에 공백을 넣기\n",
    "3. 여러개의 공백은 하나의 공백으로 바꾸기\n",
    "4. a-zA-Z?.!,¿가 아닌 모든 문자를 하나의 공백으로 바꾸기\n",
    "5. 다시 양쪽 공백을 지우기\n",
    "6. 문장 시작에는 <start>, 끝에는 <end>를 추가"
   ]
  },
  {
   "cell_type": "code",
   "execution_count": 35,
   "id": "202c7160",
   "metadata": {},
   "outputs": [
    {
     "data": {
      "text/plain": [
       "['<start> now i ve heard there was a secret chord <end>',\n",
       " '<start> that david played , and it pleased the lord <end>',\n",
       " '<start> but you don t really care for music , do you ? <end>',\n",
       " '<start> it goes like this <end>',\n",
       " '<start> the fourth , the fifth <end>',\n",
       " '<start> the minor fall , the major lift <end>',\n",
       " '<start> the baffled king composing hallelujah hallelujah <end>',\n",
       " '<start> hallelujah <end>',\n",
       " '<start> hallelujah <end>',\n",
       " '<start> hallelujah your faith was strong but you needed proof <end>']"
      ]
     },
     "execution_count": 35,
     "metadata": {},
     "output_type": "execute_result"
    }
   ],
   "source": [
    "corpus = []\n",
    "\n",
    "for sentence in raw_corpus:\n",
    "    if len(sentence) == 0: \n",
    "        continue\n",
    "    \n",
    "    preprocessed_sentence = preprocess_sentence(sentence)\n",
    "    corpus.append(preprocessed_sentence)\n",
    "        \n",
    "corpus[:10]"
   ]
  },
  {
   "cell_type": "markdown",
   "id": "0c34ab18",
   "metadata": {},
   "source": [
    "-길이가 0인 것을 제외하고 말뭉치에 추가"
   ]
  },
  {
   "cell_type": "code",
   "execution_count": 39,
   "id": "91537849",
   "metadata": {},
   "outputs": [
    {
     "name": "stdout",
     "output_type": "stream",
     "text": [
      "[[   2   50    5 ...    0    0    0]\n",
      " [   2   17 2643 ...    0    0    0]\n",
      " [   2   35    7 ...   43    3    0]\n",
      " ...\n",
      " [   2    5  107 ...    0    0    0]\n",
      " [   2  261  200 ...   12    3    0]\n",
      " [   2    7   34 ...    0    0    0]] <keras_preprocessing.text.Tokenizer object at 0x7ff167418640>\n"
     ]
    }
   ],
   "source": [
    "def tokenize(corpus):\n",
    "    tokenizer = tf.keras.preprocessing.text.Tokenizer(\n",
    "        num_words = 14000,\n",
    "        filters=' ',\n",
    "        oov_token=\"<unk>\")\n",
    "    \n",
    "    tokenizer.fit_on_texts(corpus)\n",
    "    tensor = tokenizer.texts_to_sequences(corpus)\n",
    "    tensor = [x for x in tensor if len(x) <= 15]\n",
    "    tensor = tf.keras.preprocessing.sequence.pad_sequences(tensor, padding='post')\n",
    "    \n",
    "    print(tensor, tokenizer)\n",
    "    return tensor, tokenizer\n",
    "\n",
    "tensor, tokenizer = tokenize(corpus)"
   ]
  },
  {
   "cell_type": "markdown",
   "id": "14b84a26",
   "metadata": {},
   "source": [
    "-텐서플로우의 tokenizer를 활용해 말뭉치를 텐서로 변환"
   ]
  },
  {
   "cell_type": "code",
   "execution_count": 17,
   "id": "96ae56e2",
   "metadata": {},
   "outputs": [
    {
     "name": "stdout",
     "output_type": "stream",
     "text": [
      "1 : <unk>\n",
      "2 : <start>\n",
      "3 : <end>\n",
      "4 : ,\n",
      "5 : i\n",
      "6 : the\n",
      "7 : you\n",
      "8 : and\n",
      "9 : a\n",
      "10 : to\n"
     ]
    }
   ],
   "source": [
    "for idx in tokenizer.index_word:\n",
    "    print(idx, \":\", tokenizer.index_word[idx])\n",
    "\n",
    "    if idx >= 10: break"
   ]
  },
  {
   "cell_type": "markdown",
   "id": "e06133b8",
   "metadata": {},
   "source": [
    "-구축된 단어사전 확인"
   ]
  },
  {
   "cell_type": "code",
   "execution_count": 41,
   "id": "cdf462ee",
   "metadata": {},
   "outputs": [
    {
     "name": "stdout",
     "output_type": "stream",
     "text": [
      "[   2   50    5   91  297   64   57    9  970 6048    3    0    0    0]\n",
      "[  50    5   91  297   64   57    9  970 6048    3    0    0    0    0]\n"
     ]
    }
   ],
   "source": [
    "src_input = tensor[:, :-1]  \n",
    "tgt_input = tensor[:, 1:]    \n",
    "\n",
    "print(src_input[0])\n",
    "print(tgt_input[0])"
   ]
  },
  {
   "cell_type": "markdown",
   "id": "17549e54",
   "metadata": {},
   "source": [
    "- 뒤의 토큰을 잘라내 소스 문장을, 앞의 토큰을 잘라내 타겟 문장을 만든다.\n",
    "- 시퀀스 길이보다 짧은 문장은 패딩문자 <pad>로 채워진다. 0이 <pad> 일것. -> 마지막 토큰의 대부분은 <end>가 아니라 <pad>일 것이다."
   ]
  },
  {
   "cell_type": "markdown",
   "id": "5edf93e2",
   "metadata": {},
   "source": [
    "3. 학습 평가 데이터 분리"
   ]
  },
  {
   "cell_type": "code",
   "execution_count": 68,
   "id": "936b00c4",
   "metadata": {},
   "outputs": [
    {
     "data": {
      "text/plain": [
       "<BatchDataset shapes: ((256, 14), (256, 14)), types: (tf.int32, tf.int32)>"
      ]
     },
     "execution_count": 68,
     "metadata": {},
     "output_type": "execute_result"
    }
   ],
   "source": [
    "BUFFER_SIZE = len(src_input)\n",
    "BATCH_SIZE = 256\n",
    "steps_per_epoch = len(src_input) // BATCH_SIZE\n",
    "\n",
    "VOCAB_SIZE = tokenizer.num_words + 1   \n",
    "\n",
    "dataset = tf.data.Dataset.from_tensor_slices((src_input, tgt_input))\n",
    "dataset = dataset.shuffle(BUFFER_SIZE)\n",
    "dataset = dataset.batch(BATCH_SIZE, drop_remainder=True)\n",
    "dataset"
   ]
  },
  {
   "cell_type": "markdown",
   "id": "65e112d0",
   "metadata": {},
   "source": [
    "- 5번째 줄의 +1은 패딩문자"
   ]
  },
  {
   "cell_type": "code",
   "execution_count": 73,
   "id": "4c4fae66",
   "metadata": {},
   "outputs": [
    {
     "name": "stdout",
     "output_type": "stream",
     "text": [
      "shape of source train set:  (124981, 14)\n",
      "shape of target train set:  (124981, 14)\n"
     ]
    }
   ],
   "source": [
    "from sklearn.model_selection import train_test_split\n",
    "\n",
    "enc_train, enc_val, dec_train, dec_val = train_test_split(src_input, tgt_input, test_size=0.2, random_state=42)\n",
    "\n",
    "print(\"shape of source train set: \", enc_train.shape)\n",
    "print(\"shape of target train set: \", dec_train.shape)"
   ]
  },
  {
   "cell_type": "markdown",
   "id": "44ce2d28",
   "metadata": {},
   "source": [
    "4. 모델 설계, 학습"
   ]
  },
  {
   "cell_type": "code",
   "execution_count": 74,
   "id": "eef97f73",
   "metadata": {},
   "outputs": [],
   "source": [
    "class TextGenerator(tf.keras.Model):\n",
    "    def __init__(self, vocab_size, embedding_size, hidden_size):\n",
    "        super().__init__()\n",
    "        \n",
    "        self.embedding = tf.keras.layers.Embedding(vocab_size, embedding_size)\n",
    "        self.rnn_1 = tf.keras.layers.LSTM(hidden_size, return_sequences=True)\n",
    "        self.rnn_2 = tf.keras.layers.LSTM(hidden_size, return_sequences=True)\n",
    "        self.linear = tf.keras.layers.Dense(vocab_size)\n",
    "        \n",
    "    def call(self, x):\n",
    "        out = self.embedding(x)\n",
    "        out = self.rnn_1(out)\n",
    "        out = self.rnn_2(out)\n",
    "        out = self.linear(out)\n",
    "        \n",
    "        return out\n",
    "    \n",
    "embedding_size = 516\n",
    "hidden_size = 2048\n",
    "model = TextGenerator(tokenizer.num_words + 1, embedding_size , hidden_size)"
   ]
  },
  {
   "cell_type": "code",
   "execution_count": 76,
   "id": "d33e11cf",
   "metadata": {},
   "outputs": [
    {
     "data": {
      "text/plain": [
       "<tf.Tensor: shape=(256, 14, 14001), dtype=float32, numpy=\n",
       "array([[[-5.78149848e-05, -1.13515249e-04, -1.85804558e-04, ...,\n",
       "         -1.79725539e-04, -3.06374423e-04, -1.97737536e-04],\n",
       "        [ 2.60355329e-04,  4.99273665e-05, -2.82239751e-04, ...,\n",
       "         -1.39900309e-04, -2.61207548e-04, -3.06390895e-04],\n",
       "        [ 4.36784467e-04,  2.32820399e-04, -4.31363878e-04, ...,\n",
       "         -2.15692795e-04, -1.26270141e-04, -1.19117904e-04],\n",
       "        ...,\n",
       "        [-1.00755936e-03,  6.60831283e-04, -4.79863869e-04, ...,\n",
       "          4.48741572e-04,  1.57329207e-03, -6.27967820e-04],\n",
       "        [-1.47650030e-03,  1.28646928e-03, -6.11653741e-05, ...,\n",
       "          3.03866051e-04,  1.81185326e-03, -5.08448516e-04],\n",
       "        [-1.90108072e-03,  1.93406874e-03,  4.05342260e-04, ...,\n",
       "          2.18282948e-04,  1.94689154e-03, -2.83511326e-04]],\n",
       "\n",
       "       [[-5.78149848e-05, -1.13515249e-04, -1.85804558e-04, ...,\n",
       "         -1.79725539e-04, -3.06374423e-04, -1.97737536e-04],\n",
       "        [-3.44416825e-04, -3.12199118e-04, -4.34874382e-04, ...,\n",
       "         -8.38611159e-05, -5.54146769e-04, -3.25618399e-04],\n",
       "        [-8.44843162e-04, -2.46136973e-04, -7.40107265e-04, ...,\n",
       "         -1.61016345e-04, -4.89341037e-04, -5.26808028e-04],\n",
       "        ...,\n",
       "        [-1.86597661e-03,  1.77355087e-03,  4.20643220e-04, ...,\n",
       "         -8.62210931e-04,  1.23091915e-03, -2.42056500e-04],\n",
       "        [-2.11635092e-03,  2.27193930e-03,  8.59619526e-04, ...,\n",
       "         -8.04626907e-04,  1.27738924e-03,  6.03587832e-05],\n",
       "        [-2.32368475e-03,  2.74822465e-03,  1.29373616e-03, ...,\n",
       "         -7.07528554e-04,  1.27176149e-03,  3.91871989e-04]],\n",
       "\n",
       "       [[-5.78149848e-05, -1.13515249e-04, -1.85804558e-04, ...,\n",
       "         -1.79725539e-04, -3.06374423e-04, -1.97737536e-04],\n",
       "        [-1.45664410e-04, -4.08676278e-04, -1.69238585e-04, ...,\n",
       "         -6.48035566e-05, -6.05351699e-04, -9.04174667e-05],\n",
       "        [-5.55623847e-04, -4.92216728e-04, -7.88814141e-05, ...,\n",
       "          1.71103326e-04, -5.96497848e-04,  1.96482244e-04],\n",
       "        ...,\n",
       "        [-1.61838334e-03,  1.00438751e-03,  1.23874735e-04, ...,\n",
       "          1.03515980e-03,  9.19650949e-04,  4.67739883e-04],\n",
       "        [-1.96727063e-03,  1.81116245e-03,  5.36505715e-04, ...,\n",
       "          8.63750582e-04,  9.63116297e-04,  6.76680065e-04],\n",
       "        [-2.25629122e-03,  2.52870610e-03,  9.65457119e-04, ...,\n",
       "          7.39647367e-04,  9.65764921e-04,  9.20657592e-04]],\n",
       "\n",
       "       ...,\n",
       "\n",
       "       [[-5.78149848e-05, -1.13515249e-04, -1.85804558e-04, ...,\n",
       "         -1.79725539e-04, -3.06374423e-04, -1.97737536e-04],\n",
       "        [-1.45320300e-04, -1.59236879e-04, -4.02424979e-04, ...,\n",
       "         -5.88094292e-04, -6.67193672e-04, -3.41661886e-04],\n",
       "        [-2.77520390e-04, -1.56956012e-04, -8.63842899e-04, ...,\n",
       "         -9.13047232e-04, -4.89594531e-04, -1.78020244e-04],\n",
       "        ...,\n",
       "        [-1.91651088e-05,  8.34245584e-04, -4.30036162e-04, ...,\n",
       "          3.29594099e-04,  3.63814645e-04,  1.32652203e-04],\n",
       "        [-2.58472632e-04,  9.95307812e-04, -5.51306073e-07, ...,\n",
       "          7.79631373e-05,  6.64617750e-04,  8.51271107e-05],\n",
       "        [-6.83672668e-04,  1.33836258e-03,  4.91218758e-04, ...,\n",
       "         -1.69246297e-04,  9.41517937e-04,  1.00313147e-04]],\n",
       "\n",
       "       [[-5.78149848e-05, -1.13515249e-04, -1.85804558e-04, ...,\n",
       "         -1.79725539e-04, -3.06374423e-04, -1.97737536e-04],\n",
       "        [-1.02750884e-04,  1.70799511e-04, -8.46523981e-05, ...,\n",
       "         -2.64443603e-04, -4.13787056e-04, -4.35076276e-04],\n",
       "        [-5.52118232e-04,  5.31721918e-04,  3.72449693e-04, ...,\n",
       "         -5.85205999e-05, -9.32239527e-06, -7.08069594e-04],\n",
       "        ...,\n",
       "        [ 6.90132205e-04, -1.52922387e-03, -1.07763603e-03, ...,\n",
       "          6.91425346e-04, -1.62220839e-03, -2.27649143e-05],\n",
       "        [ 1.01930264e-03, -1.45095773e-03, -9.89531167e-04, ...,\n",
       "          7.10820896e-04, -1.66305841e-03,  5.50355835e-05],\n",
       "        [ 8.61299573e-04, -1.01037661e-03, -7.68983969e-04, ...,\n",
       "          5.23616734e-04, -1.45375682e-03,  8.86266716e-05]],\n",
       "\n",
       "       [[-5.78149848e-05, -1.13515249e-04, -1.85804558e-04, ...,\n",
       "         -1.79725539e-04, -3.06374423e-04, -1.97737536e-04],\n",
       "        [-1.99803781e-05, -1.58499661e-05, -1.36878589e-04, ...,\n",
       "         -6.85065170e-05, -7.38539311e-05, -4.16370574e-04],\n",
       "        [-1.06019972e-04, -1.65965408e-04, -1.85669167e-04, ...,\n",
       "          9.01640669e-05,  1.74088695e-04, -5.57760999e-04],\n",
       "        ...,\n",
       "        [-4.97407527e-05,  2.44963565e-04,  7.43387151e-04, ...,\n",
       "          1.18312985e-03,  3.53822089e-03, -1.32867612e-03],\n",
       "        [-6.07498689e-04,  6.82646816e-04,  9.27729125e-04, ...,\n",
       "          1.00191822e-03,  3.53494543e-03, -9.09390976e-04],\n",
       "        [-1.14130182e-03,  1.20496529e-03,  1.12843816e-03, ...,\n",
       "          8.57124396e-04,  3.41581367e-03, -4.24601109e-04]]],\n",
       "      dtype=float32)>"
      ]
     },
     "execution_count": 76,
     "metadata": {},
     "output_type": "execute_result"
    }
   ],
   "source": [
    "for src_sample, tgt_sample in dataset.take(1): break\n",
    "\n",
    "model(src_sample)"
   ]
  },
  {
   "cell_type": "code",
   "execution_count": 77,
   "id": "d0e1bed4",
   "metadata": {},
   "outputs": [
    {
     "name": "stdout",
     "output_type": "stream",
     "text": [
      "Model: \"text_generator_3\"\n",
      "_________________________________________________________________\n",
      "Layer (type)                 Output Shape              Param #   \n",
      "=================================================================\n",
      "embedding_3 (Embedding)      multiple                  7224516   \n",
      "_________________________________________________________________\n",
      "lstm_6 (LSTM)                multiple                  21012480  \n",
      "_________________________________________________________________\n",
      "lstm_7 (LSTM)                multiple                  33562624  \n",
      "_________________________________________________________________\n",
      "dense_3 (Dense)              multiple                  28688049  \n",
      "=================================================================\n",
      "Total params: 90,487,669\n",
      "Trainable params: 90,487,669\n",
      "Non-trainable params: 0\n",
      "_________________________________________________________________\n"
     ]
    }
   ],
   "source": [
    "model.summary()"
   ]
  },
  {
   "cell_type": "code",
   "execution_count": 78,
   "id": "9ef91c4d",
   "metadata": {},
   "outputs": [
    {
     "name": "stdout",
     "output_type": "stream",
     "text": [
      "Epoch 1/10\n",
      "3906/3906 [==============================] - 462s 118ms/step - loss: 2.9433 - val_loss: 2.6584\n",
      "Epoch 2/10\n",
      "3906/3906 [==============================] - 460s 118ms/step - loss: 2.3770 - val_loss: 2.4036\n",
      "Epoch 3/10\n",
      "3906/3906 [==============================] - 461s 118ms/step - loss: 1.9279 - val_loss: 2.2670\n",
      "Epoch 4/10\n",
      "3906/3906 [==============================] - 461s 118ms/step - loss: 1.5790 - val_loss: 2.2205\n",
      "Epoch 5/10\n",
      "3906/3906 [==============================] - 462s 118ms/step - loss: 1.3437 - val_loss: 2.2389\n",
      "Epoch 6/10\n",
      "3906/3906 [==============================] - 460s 118ms/step - loss: 1.2005 - val_loss: 2.2721\n",
      "Epoch 7/10\n",
      "3906/3906 [==============================] - 460s 118ms/step - loss: 1.1219 - val_loss: 2.3192\n",
      "Epoch 8/10\n",
      "3906/3906 [==============================] - 460s 118ms/step - loss: 1.0786 - val_loss: 2.3512\n",
      "Epoch 9/10\n",
      "3906/3906 [==============================] - 461s 118ms/step - loss: 1.0544 - val_loss: 2.4042\n",
      "Epoch 10/10\n",
      "3906/3906 [==============================] - 462s 118ms/step - loss: 1.0369 - val_loss: 2.4191\n"
     ]
    },
    {
     "data": {
      "text/plain": [
       "<keras.callbacks.History at 0x7ff09a5d84c0>"
      ]
     },
     "execution_count": 78,
     "metadata": {},
     "output_type": "execute_result"
    }
   ],
   "source": [
    "optimizer = tf.keras.optimizers.Adam()\n",
    "loss = tf.keras.losses.SparseCategoricalCrossentropy(\n",
    "    from_logits=True, reduction='none')\n",
    "\n",
    "model.compile(loss=loss, optimizer=optimizer)\n",
    "model.fit(enc_train, dec_train, epochs=10, validation_data=(enc_val, dec_val))"
   ]
  },
  {
   "cell_type": "code",
   "execution_count": null,
   "id": "9581a939",
   "metadata": {},
   "outputs": [],
   "source": [
    "5. 평가"
   ]
  },
  {
   "cell_type": "code",
   "execution_count": 79,
   "id": "156b6db9",
   "metadata": {},
   "outputs": [],
   "source": [
    "def generate_text(model, tokenizer, init_sentence=\"<start>\", max_len=20):\n",
    "    test_input = tokenizer.texts_to_sequences([init_sentence])\n",
    "    test_tensor = tf.convert_to_tensor(test_input, dtype=tf.int64)\n",
    "    end_token = tokenizer.word_index[\"<end>\"]\n",
    "\n",
    "\n",
    "    while True:\n",
    "\n",
    "        predict = model(test_tensor) \n",
    " \n",
    "        predict_word = tf.argmax(tf.nn.softmax(predict, axis=-1), axis=-1)[:, -1] \n",
    "\n",
    "        test_tensor = tf.concat([test_tensor, tf.expand_dims(predict_word, axis=0)], axis=-1)\n",
    "\n",
    "        if predict_word.numpy()[0] == end_token: break\n",
    "        if test_tensor.shape[1] >= max_len: break\n",
    "\n",
    "    generated = \"\"\n",
    "\n",
    "    for word_index in test_tensor[0].numpy():\n",
    "        generated += tokenizer.index_word[word_index] + \" \"\n",
    "\n",
    "    return generated    "
   ]
  },
  {
   "cell_type": "code",
   "execution_count": 80,
   "id": "13878f40",
   "metadata": {},
   "outputs": [
    {
     "data": {
      "text/plain": [
       "'<start> she lives in the crowd and shed not a tear <end> '"
      ]
     },
     "execution_count": 80,
     "metadata": {},
     "output_type": "execute_result"
    }
   ],
   "source": [
    "generate_text(model, tokenizer, init_sentence=\"<start> She lives\", max_len=20)"
   ]
  },
  {
   "cell_type": "markdown",
   "id": "880a5690",
   "metadata": {},
   "source": [
    "6. 회고\n",
    "\n",
    "- 토큰의 갯수를 15개로 제한하기 위해 말뭉치를 텐서로 변환할 때 maxlen= 15를 쓰면 임의로 잘려버려 <start>로 시작하지 않는 문장이 생기는 문제가 발생했다.\n",
    "- validation loss 가 줄어들다가 다시 늘어나는 것은 무슨 문제인지 아직도 도무지 알 수가 없다.\n",
    "- 데이터셋을 만들었지만 학습은 이전과 똑같이 한 것이 아쉬움.\n",
    "- 중복된 것을 제거하고 다시 해보고 싶은 생각이 들었지만, 학습에 시간이 너무 걸려 엄두를 못냈다."
   ]
  }
 ],
 "metadata": {
  "kernelspec": {
   "display_name": "Python 3 (ipykernel)",
   "language": "python",
   "name": "python3"
  },
  "language_info": {
   "codemirror_mode": {
    "name": "ipython",
    "version": 3
   },
   "file_extension": ".py",
   "mimetype": "text/x-python",
   "name": "python",
   "nbconvert_exporter": "python",
   "pygments_lexer": "ipython3",
   "version": "3.9.7"
  }
 },
 "nbformat": 4,
 "nbformat_minor": 5
}
