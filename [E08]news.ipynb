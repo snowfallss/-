{
 "cells": [
  {
   "cell_type": "markdown",
   "id": "add09b06",
   "metadata": {},
   "source": [
    "데이터 준비, 전처리"
   ]
  },
  {
   "cell_type": "code",
   "execution_count": 1,
   "id": "f9b65e4f",
   "metadata": {},
   "outputs": [
    {
     "name": "stderr",
     "output_type": "stream",
     "text": [
      "[nltk_data] Downloading package stopwords to /aiffel/nltk_data...\n",
      "[nltk_data]   Package stopwords is already up-to-date!\n"
     ]
    }
   ],
   "source": [
    "import nltk\n",
    "nltk.download('stopwords')\n",
    "\n",
    "import numpy as np\n",
    "import pandas as pd\n",
    "import os\n",
    "import re\n",
    "import matplotlib.pyplot as plt\n",
    "from nltk.corpus import stopwords\n",
    "from bs4 import BeautifulSoup \n",
    "from tensorflow.keras.preprocessing.text import Tokenizer \n",
    "from tensorflow.keras.preprocessing.sequence import pad_sequences\n",
    "import urllib.request\n",
    "import warnings\n",
    "warnings.filterwarnings(\"ignore\", category=UserWarning, module='bs4')"
   ]
  },
  {
   "cell_type": "code",
   "execution_count": 2,
   "id": "1d61572b",
   "metadata": {},
   "outputs": [],
   "source": [
    "import urllib.request\n",
    "urllib.request.urlretrieve(\"https://raw.githubusercontent.com/sunnysai12345/News_Summary/master/news_summary_more.csv\", filename=\"news_summary_more.csv\")\n",
    "data = pd.read_csv('news_summary_more.csv', encoding='iso-8859-1')"
   ]
  },
  {
   "cell_type": "code",
   "execution_count": 3,
   "id": "411cf9b6",
   "metadata": {},
   "outputs": [
    {
     "data": {
      "text/html": [
       "<div>\n",
       "<style scoped>\n",
       "    .dataframe tbody tr th:only-of-type {\n",
       "        vertical-align: middle;\n",
       "    }\n",
       "\n",
       "    .dataframe tbody tr th {\n",
       "        vertical-align: top;\n",
       "    }\n",
       "\n",
       "    .dataframe thead th {\n",
       "        text-align: right;\n",
       "    }\n",
       "</style>\n",
       "<table border=\"1\" class=\"dataframe\">\n",
       "  <thead>\n",
       "    <tr style=\"text-align: right;\">\n",
       "      <th></th>\n",
       "      <th>headlines</th>\n",
       "      <th>text</th>\n",
       "    </tr>\n",
       "  </thead>\n",
       "  <tbody>\n",
       "    <tr>\n",
       "      <th>76105</th>\n",
       "      <td>US transgender troops sue Trump over military ban</td>\n",
       "      <td>Five transgender members of the US military ha...</td>\n",
       "    </tr>\n",
       "    <tr>\n",
       "      <th>18388</th>\n",
       "      <td>Infosys forms Singapore joint venture with Tem...</td>\n",
       "      <td>India's second-largest IT services company Inf...</td>\n",
       "    </tr>\n",
       "    <tr>\n",
       "      <th>19327</th>\n",
       "      <td>400 more soldiers petition SC against dilution...</td>\n",
       "      <td>Challenging the criminal cases filed against s...</td>\n",
       "    </tr>\n",
       "    <tr>\n",
       "      <th>9532</th>\n",
       "      <td>Once a Miss World, always a Miss World: Manush...</td>\n",
       "      <td>Miss World 2017 Manushi Chhillar, who will be ...</td>\n",
       "    </tr>\n",
       "    <tr>\n",
       "      <th>20993</th>\n",
       "      <td>Dawood's finance manager Jabir Moti detained i...</td>\n",
       "      <td>The London Police has detained gangster Dawood...</td>\n",
       "    </tr>\n",
       "    <tr>\n",
       "      <th>19435</th>\n",
       "      <td>Mumbai airport renamed Chhatrapati Shivaji 'Ma...</td>\n",
       "      <td>Mumbai's Chhatrapati Shivaji International Air...</td>\n",
       "    </tr>\n",
       "    <tr>\n",
       "      <th>29471</th>\n",
       "      <td>Won't compromise on my creativity to belt out ...</td>\n",
       "      <td>John Abraham has said commercial success of fi...</td>\n",
       "    </tr>\n",
       "    <tr>\n",
       "      <th>63837</th>\n",
       "      <td>India safe for tourists: Govt after attack on ...</td>\n",
       "      <td>Following the attack on a Swiss couple in Utta...</td>\n",
       "    </tr>\n",
       "    <tr>\n",
       "      <th>25784</th>\n",
       "      <td>Under 1mn iPhones sold in 1st half of 2018 in ...</td>\n",
       "      <td>Apple sold fewer than a million devices in the...</td>\n",
       "    </tr>\n",
       "    <tr>\n",
       "      <th>54153</th>\n",
       "      <td>10-yr-old kills self after being scolded for n...</td>\n",
       "      <td>A 10-year-old boy in Tamil Nadu allegedly comm...</td>\n",
       "    </tr>\n",
       "  </tbody>\n",
       "</table>\n",
       "</div>"
      ],
      "text/plain": [
       "                                               headlines  \\\n",
       "76105  US transgender troops sue Trump over military ban   \n",
       "18388  Infosys forms Singapore joint venture with Tem...   \n",
       "19327  400 more soldiers petition SC against dilution...   \n",
       "9532   Once a Miss World, always a Miss World: Manush...   \n",
       "20993  Dawood's finance manager Jabir Moti detained i...   \n",
       "19435  Mumbai airport renamed Chhatrapati Shivaji 'Ma...   \n",
       "29471  Won't compromise on my creativity to belt out ...   \n",
       "63837  India safe for tourists: Govt after attack on ...   \n",
       "25784  Under 1mn iPhones sold in 1st half of 2018 in ...   \n",
       "54153  10-yr-old kills self after being scolded for n...   \n",
       "\n",
       "                                                    text  \n",
       "76105  Five transgender members of the US military ha...  \n",
       "18388  India's second-largest IT services company Inf...  \n",
       "19327  Challenging the criminal cases filed against s...  \n",
       "9532   Miss World 2017 Manushi Chhillar, who will be ...  \n",
       "20993  The London Police has detained gangster Dawood...  \n",
       "19435  Mumbai's Chhatrapati Shivaji International Air...  \n",
       "29471  John Abraham has said commercial success of fi...  \n",
       "63837  Following the attack on a Swiss couple in Utta...  \n",
       "25784  Apple sold fewer than a million devices in the...  \n",
       "54153  A 10-year-old boy in Tamil Nadu allegedly comm...  "
      ]
     },
     "execution_count": 3,
     "metadata": {},
     "output_type": "execute_result"
    }
   ],
   "source": [
    "data.sample(10)"
   ]
  },
  {
   "cell_type": "code",
   "execution_count": 5,
   "id": "8b8c1d28",
   "metadata": {},
   "outputs": [
    {
     "name": "stdout",
     "output_type": "stream",
     "text": [
      "text 열에서 중복을 배제한 유일한 샘플의 수 : 98360\n",
      "headlines 열에서 중복을 배제한 유일한 샘플의 수 : 98280\n"
     ]
    }
   ],
   "source": [
    "print('text 열에서 중복을 배제한 유일한 샘플의 수 :', data['text'].nunique())\n",
    "print('headlines 열에서 중복을 배제한 유일한 샘플의 수 :', data['headlines'].nunique())"
   ]
  },
  {
   "cell_type": "code",
   "execution_count": 6,
   "id": "4014adfc",
   "metadata": {},
   "outputs": [
    {
     "name": "stdout",
     "output_type": "stream",
     "text": [
      "전체 샘플수 : 98360\n"
     ]
    }
   ],
   "source": [
    "#중복 샘플을 제거\n",
    "data.drop_duplicates(subset = ['text'], inplace=True)\n",
    "print('전체 샘플수 :', (len(data)))"
   ]
  },
  {
   "cell_type": "code",
   "execution_count": 7,
   "id": "c8eb3e89",
   "metadata": {},
   "outputs": [
    {
     "name": "stdout",
     "output_type": "stream",
     "text": [
      "headlines    0\n",
      "text         0\n",
      "dtype: int64\n"
     ]
    }
   ],
   "source": [
    "# 결측치 확인\n",
    "print(data.isnull().sum()) #결측치 없음"
   ]
  },
  {
   "cell_type": "code",
   "execution_count": 8,
   "id": "bde6b8d6",
   "metadata": {},
   "outputs": [
    {
     "name": "stdout",
     "output_type": "stream",
     "text": [
      "정규화 사전의 수:  120\n"
     ]
    }
   ],
   "source": [
    "contractions = {\"ain't\": \"is not\", \"aren't\": \"are not\",\"can't\": \"cannot\", \"'cause\": \"because\", \"could've\": \"could have\", \"couldn't\": \"could not\",\n",
    "                           \"didn't\": \"did not\",  \"doesn't\": \"does not\", \"don't\": \"do not\", \"hadn't\": \"had not\", \"hasn't\": \"has not\", \"haven't\": \"have not\",\n",
    "                           \"he'd\": \"he would\",\"he'll\": \"he will\", \"he's\": \"he is\", \"how'd\": \"how did\", \"how'd'y\": \"how do you\", \"how'll\": \"how will\", \"how's\": \"how is\",\n",
    "                           \"I'd\": \"I would\", \"I'd've\": \"I would have\", \"I'll\": \"I will\", \"I'll've\": \"I will have\",\"I'm\": \"I am\", \"I've\": \"I have\", \"i'd\": \"i would\",\n",
    "                           \"i'd've\": \"i would have\", \"i'll\": \"i will\",  \"i'll've\": \"i will have\",\"i'm\": \"i am\", \"i've\": \"i have\", \"isn't\": \"is not\", \"it'd\": \"it would\",\n",
    "                           \"it'd've\": \"it would have\", \"it'll\": \"it will\", \"it'll've\": \"it will have\",\"it's\": \"it is\", \"let's\": \"let us\", \"ma'am\": \"madam\",\n",
    "                           \"mayn't\": \"may not\", \"might've\": \"might have\",\"mightn't\": \"might not\",\"mightn't've\": \"might not have\", \"must've\": \"must have\",\n",
    "                           \"mustn't\": \"must not\", \"mustn't've\": \"must not have\", \"needn't\": \"need not\", \"needn't've\": \"need not have\",\"o'clock\": \"of the clock\",\n",
    "                           \"oughtn't\": \"ought not\", \"oughtn't've\": \"ought not have\", \"shan't\": \"shall not\", \"sha'n't\": \"shall not\", \"shan't've\": \"shall not have\",\n",
    "                           \"she'd\": \"she would\", \"she'd've\": \"she would have\", \"she'll\": \"she will\", \"she'll've\": \"she will have\", \"she's\": \"she is\",\n",
    "                           \"should've\": \"should have\", \"shouldn't\": \"should not\", \"shouldn't've\": \"should not have\", \"so've\": \"so have\",\"so's\": \"so as\",\n",
    "                           \"this's\": \"this is\",\"that'd\": \"that would\", \"that'd've\": \"that would have\", \"that's\": \"that is\", \"there'd\": \"there would\",\n",
    "                           \"there'd've\": \"there would have\", \"there's\": \"there is\", \"here's\": \"here is\",\"they'd\": \"they would\", \"they'd've\": \"they would have\",\n",
    "                           \"they'll\": \"they will\", \"they'll've\": \"they will have\", \"they're\": \"they are\", \"they've\": \"they have\", \"to've\": \"to have\",\n",
    "                           \"wasn't\": \"was not\", \"we'd\": \"we would\", \"we'd've\": \"we would have\", \"we'll\": \"we will\", \"we'll've\": \"we will have\", \"we're\": \"we are\",\n",
    "                           \"we've\": \"we have\", \"weren't\": \"were not\", \"what'll\": \"what will\", \"what'll've\": \"what will have\", \"what're\": \"what are\",\n",
    "                           \"what's\": \"what is\", \"what've\": \"what have\", \"when's\": \"when is\", \"when've\": \"when have\", \"where'd\": \"where did\", \"where's\": \"where is\",\n",
    "                           \"where've\": \"where have\", \"who'll\": \"who will\", \"who'll've\": \"who will have\", \"who's\": \"who is\", \"who've\": \"who have\",\n",
    "                           \"why's\": \"why is\", \"why've\": \"why have\", \"will've\": \"will have\", \"won't\": \"will not\", \"won't've\": \"will not have\",\n",
    "                           \"would've\": \"would have\", \"wouldn't\": \"would not\", \"wouldn't've\": \"would not have\", \"y'all\": \"you all\",\n",
    "                           \"y'all'd\": \"you all would\",\"y'all'd've\": \"you all would have\",\"y'all're\": \"you all are\",\"y'all've\": \"you all have\",\n",
    "                           \"you'd\": \"you would\", \"you'd've\": \"you would have\", \"you'll\": \"you will\", \"you'll've\": \"you will have\",\n",
    "                           \"you're\": \"you are\", \"you've\": \"you have\"}\n",
    "\n",
    "print(\"정규화 사전의 수: \", len(contractions))"
   ]
  },
  {
   "cell_type": "code",
   "execution_count": 9,
   "id": "797fe45d",
   "metadata": {},
   "outputs": [
    {
     "name": "stdout",
     "output_type": "stream",
     "text": [
      "불용어 개수 : 179\n",
      "['i', 'me', 'my', 'myself', 'we', 'our', 'ours', 'ourselves', 'you', \"you're\", \"you've\", \"you'll\", \"you'd\", 'your', 'yours', 'yourself', 'yourselves', 'he', 'him', 'his', 'himself', 'she', \"she's\", 'her', 'hers', 'herself', 'it', \"it's\", 'its', 'itself', 'they', 'them', 'their', 'theirs', 'themselves', 'what', 'which', 'who', 'whom', 'this', 'that', \"that'll\", 'these', 'those', 'am', 'is', 'are', 'was', 'were', 'be', 'been', 'being', 'have', 'has', 'had', 'having', 'do', 'does', 'did', 'doing', 'a', 'an', 'the', 'and', 'but', 'if', 'or', 'because', 'as', 'until', 'while', 'of', 'at', 'by', 'for', 'with', 'about', 'against', 'between', 'into', 'through', 'during', 'before', 'after', 'above', 'below', 'to', 'from', 'up', 'down', 'in', 'out', 'on', 'off', 'over', 'under', 'again', 'further', 'then', 'once', 'here', 'there', 'when', 'where', 'why', 'how', 'all', 'any', 'both', 'each', 'few', 'more', 'most', 'other', 'some', 'such', 'no', 'nor', 'not', 'only', 'own', 'same', 'so', 'than', 'too', 'very', 's', 't', 'can', 'will', 'just', 'don', \"don't\", 'should', \"should've\", 'now', 'd', 'll', 'm', 'o', 're', 've', 'y', 'ain', 'aren', \"aren't\", 'couldn', \"couldn't\", 'didn', \"didn't\", 'doesn', \"doesn't\", 'hadn', \"hadn't\", 'hasn', \"hasn't\", 'haven', \"haven't\", 'isn', \"isn't\", 'ma', 'mightn', \"mightn't\", 'mustn', \"mustn't\", 'needn', \"needn't\", 'shan', \"shan't\", 'shouldn', \"shouldn't\", 'wasn', \"wasn't\", 'weren', \"weren't\", 'won', \"won't\", 'wouldn', \"wouldn't\"]\n"
     ]
    }
   ],
   "source": [
    "print('불용어 개수 :', len(stopwords.words('english') ))\n",
    "print(stopwords.words('english'))"
   ]
  },
  {
   "cell_type": "code",
   "execution_count": 10,
   "id": "83a9976d",
   "metadata": {},
   "outputs": [],
   "source": [
    "# 데이터 전처리 함수\n",
    "def preprocess_sentence(sentence, remove_stopwords=True):\n",
    "    sentence = sentence.lower() # 텍스트 소문자화\n",
    "    sentence = BeautifulSoup(sentence, \"lxml\").text # <br />, <a href = ...> 등의 html 태그 제거\n",
    "    sentence = re.sub(r'\\([^)]*\\)', '', sentence) # 괄호로 닫힌 문자열 (...) 제거 Ex) my husband (and myself!) for => my husband for\n",
    "    sentence = re.sub('\"','', sentence) # 쌍따옴표 \" 제거\n",
    "    sentence = ' '.join([contractions[t] if t in contractions else t for t in sentence.split(\" \")]) # 약어 정규화\n",
    "    sentence = re.sub(r\"'s\\b\",\"\", sentence) # 소유격 제거. Ex) roland's -> roland\n",
    "    sentence = re.sub(\"[^a-zA-Z]\", \" \", sentence) # 영어 외 문자(숫자, 특수문자 등) 공백으로 변환\n",
    "    sentence = re.sub('[m]{2,}', 'mm', sentence) # m이 3개 이상이면 2개로 변경. Ex) ummmmmmm yeah -> umm yeah\n",
    "    \n",
    "    # 불용어 제거 (text)\n",
    "    if remove_stopwords:\n",
    "        tokens = ' '.join(word for word in sentence.split() if not word in stopwords.words('english') if len(word) > 1)\n",
    "    # 불용어 미제거 (headlines)\n",
    "    else:\n",
    "        tokens = ' '.join(word for word in sentence.split() if len(word) > 1)\n",
    "    return tokens"
   ]
  },
  {
   "cell_type": "code",
   "execution_count": 11,
   "id": "f25b8a5a",
   "metadata": {},
   "outputs": [
    {
     "name": "stdout",
     "output_type": "stream",
     "text": [
      "text 전처리 후 결과:  ['saurav kant alumnus upgrad iiit pg program machine learning artificial intelligence sr systems engineer infosys almost years work experience program upgrad degree career support helped transition data scientist tech mahindra salary hike upgrad online power learning powered lakh careers', 'kunal shah credit card bill payment platform cred gave users chance win free food swiggy one year pranav kaushik delhi techie bagged reward spending cred coins users get one cred coin per rupee bill paid used avail rewards brands like ixigo bookmyshow ubereats cult fit', 'new zealand defeated india wickets fourth odi hamilton thursday win first match five match odi series india lost international match rohit sharma captaincy consecutive victories dating back march match witnessed india getting seventh lowest total odi cricket history', 'aegon life iterm insurance plan customers enjoy tax benefits premiums paid save taxes plan provides life cover age years also customers options insure critical illnesses disability accidental death benefit rider life cover age years', 'speaking sexual harassment allegations rajkumar hirani sonam kapoor said known hirani many years true metoo movement get derailed metoo movement always believe woman case need reserve judgment added hirani accused assistant worked sanju']\n"
     ]
    }
   ],
   "source": [
    "clean_text = []\n",
    "# 전체 text 데이터에 대한 전처리 : 10분 이상 시간이 걸릴 수 있습니다. \n",
    "for s in data['text']:\n",
    "    clean_text.append(preprocess_sentence(s))\n",
    "\n",
    "# 전처리 후 출력\n",
    "print(\"text 전처리 후 결과: \", clean_text[:5])"
   ]
  },
  {
   "cell_type": "code",
   "execution_count": 14,
   "id": "4bd9f0b3",
   "metadata": {},
   "outputs": [
    {
     "name": "stdout",
     "output_type": "stream",
     "text": [
      "headlines 전처리 후 결과:  ['upgrad learner switches to career in ml al with salary hike', 'delhi techie wins free food from swiggy for one year on cred', 'new zealand end rohit sharma led india match winning streak', 'aegon life iterm insurance plan helps customers save tax', 'have known hirani for yrs what if metoo claims are not true sonam']\n"
     ]
    }
   ],
   "source": [
    "clean_headlines = []\n",
    "\n",
    "for s in data['headlines']:\n",
    "    clean_headlines.append(preprocess_sentence(s, False))#flase는 불용어 제거를 하지 않는다는 의미\n",
    "\n",
    "print(\"headlines 전처리 후 결과: \", clean_headlines[:5])"
   ]
  },
  {
   "cell_type": "code",
   "execution_count": 15,
   "id": "ff05698c",
   "metadata": {},
   "outputs": [],
   "source": [
    "data['text'] = clean_text\n",
    "data['headlines'] = clean_headlines\n",
    "\n",
    "# 빈 값을 Null 값으로 변환\n",
    "data.replace('', np.nan, inplace=True) "
   ]
  },
  {
   "cell_type": "code",
   "execution_count": 16,
   "id": "ab466f71",
   "metadata": {},
   "outputs": [
    {
     "data": {
      "text/plain": [
       "headlines    0\n",
       "text         0\n",
       "dtype: int64"
      ]
     },
     "execution_count": 16,
     "metadata": {},
     "output_type": "execute_result"
    }
   ],
   "source": [
    "data.isnull().sum()"
   ]
  },
  {
   "cell_type": "code",
   "execution_count": 17,
   "id": "9b283b69",
   "metadata": {},
   "outputs": [
    {
     "name": "stdout",
     "output_type": "stream",
     "text": [
      "텍스트의 최소 길이 : 1\n",
      "텍스트의 최대 길이 : 60\n",
      "텍스트의 평균 길이 : 35.09968483123221\n",
      "헤드라인의 최소 길이 : 1\n",
      "헤드라인의 최대 길이 : 16\n",
      "헤드라인의 평균 길이 : 9.299532330215534\n"
     ]
    },
    {
     "data": {
      "image/png": "[encoded data removed]",
      "text/plain": [
       "<Figure size 432x288 with 2 Axes>"
      ]
     },
     "metadata": {
      "needs_background": "light"
     },
     "output_type": "display_data"
    },
    {
     "data": {
      "image/png": "[encoded data removed]",
      "text/plain": [
       "<Figure size 432x288 with 1 Axes>"
      ]
     },
     "metadata": {
      "needs_background": "light"
     },
     "output_type": "display_data"
    },
    {
     "data": {
      "image/png": "[encoded data removed]",
      "text/plain": [
       "<Figure size 432x288 with 1 Axes>"
      ]
     },
     "metadata": {
      "needs_background": "light"
     },
     "output_type": "display_data"
    }
   ],
   "source": [
    "# 길이 분포 출력\n",
    "import matplotlib.pyplot as plt\n",
    "\n",
    "text_len = [len(s.split()) for s in data['text']]\n",
    "summary_len = [len(s.split()) for s in data['headlines']]\n",
    "\n",
    "print('텍스트의 최소 길이 : {}'.format(np.min(text_len)))\n",
    "print('텍스트의 최대 길이 : {}'.format(np.max(text_len)))\n",
    "print('텍스트의 평균 길이 : {}'.format(np.mean(text_len)))\n",
    "print('헤드라인의 최소 길이 : {}'.format(np.min(summary_len)))\n",
    "print('헤드라인의 최대 길이 : {}'.format(np.max(summary_len)))\n",
    "print('헤드라인의 평균 길이 : {}'.format(np.mean(summary_len)))\n",
    "\n",
    "plt.subplot(1,2,1)\n",
    "plt.boxplot(text_len)\n",
    "plt.title('text')\n",
    "plt.subplot(1,2,2)\n",
    "plt.boxplot(summary_len)\n",
    "plt.title('headlines')\n",
    "plt.tight_layout()\n",
    "plt.show()\n",
    "\n",
    "plt.title('text')\n",
    "plt.hist(text_len, bins = 40)\n",
    "plt.xlabel('length of samples')\n",
    "plt.ylabel('number of samples')\n",
    "plt.show()\n",
    "\n",
    "plt.title('headlines')\n",
    "plt.hist(summary_len, bins = 40)\n",
    "plt.xlabel('length of samples')\n",
    "plt.ylabel('number of samples')\n",
    "plt.show()"
   ]
  },
  {
   "cell_type": "code",
   "execution_count": 20,
   "id": "67215ba4",
   "metadata": {},
   "outputs": [],
   "source": [
    "text_max_len = 42\n",
    "headlines_max_len = 12\n",
    "# 도표를 보고 임의 설정"
   ]
  },
  {
   "cell_type": "code",
   "execution_count": 21,
   "id": "f38fe8ba",
   "metadata": {},
   "outputs": [
    {
     "name": "stdout",
     "output_type": "stream",
     "text": [
      "전체 샘플 중 길이가 42 이하인 샘플의 비율: 0.9750305002033347\n",
      "전체 샘플 중 길이가 12 이하인 샘플의 비율: 0.9880337535583571\n"
     ]
    }
   ],
   "source": [
    "# 얼마나 잘리는지 확인\n",
    "def below_threshold_len(max_len, nested_list):\n",
    "  cnt = 0\n",
    "  for s in nested_list:\n",
    "    if(len(s.split()) <= max_len):\n",
    "        cnt = cnt + 1\n",
    "  print('전체 샘플 중 길이가 %s 이하인 샘플의 비율: %s'%(max_len, (cnt / len(nested_list))))\n",
    "below_threshold_len(text_max_len, data['text'])\n",
    "below_threshold_len(headlines_max_len,  data['headlines'])"
   ]
  },
  {
   "cell_type": "code",
   "execution_count": 22,
   "id": "911df7ed",
   "metadata": {},
   "outputs": [
    {
     "name": "stdout",
     "output_type": "stream",
     "text": [
      "전체 샘플수 : 94754\n"
     ]
    }
   ],
   "source": [
    "data = data[data['text'].apply(lambda x: len(x.split()) <= text_max_len)]\n",
    "data = data[data['headlines'].apply(lambda x: len(x.split()) <= headlines_max_len)]\n",
    "print('전체 샘플수 :', (len(data)))"
   ]
  },
  {
   "cell_type": "code",
   "execution_count": 23,
   "id": "baa51a87",
   "metadata": {},
   "outputs": [
    {
     "data": {
      "text/html": [
       "<div>\n",
       "<style scoped>\n",
       "    .dataframe tbody tr th:only-of-type {\n",
       "        vertical-align: middle;\n",
       "    }\n",
       "\n",
       "    .dataframe tbody tr th {\n",
       "        vertical-align: top;\n",
       "    }\n",
       "\n",
       "    .dataframe thead th {\n",
       "        text-align: right;\n",
       "    }\n",
       "</style>\n",
       "<table border=\"1\" class=\"dataframe\">\n",
       "  <thead>\n",
       "    <tr style=\"text-align: right;\">\n",
       "      <th></th>\n",
       "      <th>headlines</th>\n",
       "      <th>text</th>\n",
       "      <th>decoder_input</th>\n",
       "      <th>decoder_target</th>\n",
       "    </tr>\n",
       "  </thead>\n",
       "  <tbody>\n",
       "    <tr>\n",
       "      <th>0</th>\n",
       "      <td>upgrad learner switches to career in ml al wit...</td>\n",
       "      <td>saurav kant alumnus upgrad iiit pg program mac...</td>\n",
       "      <td>sostoken upgrad learner switches to career in ...</td>\n",
       "      <td>upgrad learner switches to career in ml al wit...</td>\n",
       "    </tr>\n",
       "    <tr>\n",
       "      <th>2</th>\n",
       "      <td>new zealand end rohit sharma led india match w...</td>\n",
       "      <td>new zealand defeated india wickets fourth odi ...</td>\n",
       "      <td>sostoken new zealand end rohit sharma led indi...</td>\n",
       "      <td>new zealand end rohit sharma led india match w...</td>\n",
       "    </tr>\n",
       "    <tr>\n",
       "      <th>3</th>\n",
       "      <td>aegon life iterm insurance plan helps customer...</td>\n",
       "      <td>aegon life iterm insurance plan customers enjo...</td>\n",
       "      <td>sostoken aegon life iterm insurance plan helps...</td>\n",
       "      <td>aegon life iterm insurance plan helps customer...</td>\n",
       "    </tr>\n",
       "    <tr>\n",
       "      <th>5</th>\n",
       "      <td>rahat fateh ali khan denies getting notice for...</td>\n",
       "      <td>pakistani singer rahat fateh ali khan denied r...</td>\n",
       "      <td>sostoken rahat fateh ali khan denies getting n...</td>\n",
       "      <td>rahat fateh ali khan denies getting notice for...</td>\n",
       "    </tr>\n",
       "    <tr>\n",
       "      <th>6</th>\n",
       "      <td>india get all out for their lowest odi total i...</td>\n",
       "      <td>india recorded lowest odi total new zealand ge...</td>\n",
       "      <td>sostoken india get all out for their lowest od...</td>\n",
       "      <td>india get all out for their lowest odi total i...</td>\n",
       "    </tr>\n",
       "  </tbody>\n",
       "</table>\n",
       "</div>"
      ],
      "text/plain": [
       "                                           headlines  \\\n",
       "0  upgrad learner switches to career in ml al wit...   \n",
       "2  new zealand end rohit sharma led india match w...   \n",
       "3  aegon life iterm insurance plan helps customer...   \n",
       "5  rahat fateh ali khan denies getting notice for...   \n",
       "6  india get all out for their lowest odi total i...   \n",
       "\n",
       "                                                text  \\\n",
       "0  saurav kant alumnus upgrad iiit pg program mac...   \n",
       "2  new zealand defeated india wickets fourth odi ...   \n",
       "3  aegon life iterm insurance plan customers enjo...   \n",
       "5  pakistani singer rahat fateh ali khan denied r...   \n",
       "6  india recorded lowest odi total new zealand ge...   \n",
       "\n",
       "                                       decoder_input  \\\n",
       "0  sostoken upgrad learner switches to career in ...   \n",
       "2  sostoken new zealand end rohit sharma led indi...   \n",
       "3  sostoken aegon life iterm insurance plan helps...   \n",
       "5  sostoken rahat fateh ali khan denies getting n...   \n",
       "6  sostoken india get all out for their lowest od...   \n",
       "\n",
       "                                      decoder_target  \n",
       "0  upgrad learner switches to career in ml al wit...  \n",
       "2  new zealand end rohit sharma led india match w...  \n",
       "3  aegon life iterm insurance plan helps customer...  \n",
       "5  rahat fateh ali khan denies getting notice for...  \n",
       "6  india get all out for their lowest odi total i...  "
      ]
     },
     "execution_count": 23,
     "metadata": {},
     "output_type": "execute_result"
    }
   ],
   "source": [
    "# 요약 데이터에는 시작 토큰과 종료 토큰을 추가한다.\n",
    "data['decoder_input'] = data['headlines'].apply(lambda x : 'sostoken '+ x)\n",
    "data['decoder_target'] = data['headlines'].apply(lambda x : x + ' eostoken')\n",
    "data.head()"
   ]
  },
  {
   "cell_type": "code",
   "execution_count": 24,
   "id": "3baf3a68",
   "metadata": {},
   "outputs": [],
   "source": [
    "# 인코더의 입력, 디코더의 입력과 레이블을 각각 다시 넘파이 타입으로 저장\n",
    "encoder_input = np.array(data['text']) # 인코더의 입력\n",
    "decoder_input = np.array(data['decoder_input']) # 디코더의 입력\n",
    "decoder_target = np.array(data['decoder_target']) # 디코더의 레이블"
   ]
  },
  {
   "cell_type": "code",
   "execution_count": 25,
   "id": "e85bc17c",
   "metadata": {},
   "outputs": [
    {
     "name": "stdout",
     "output_type": "stream",
     "text": [
      "[56533 41357  5760 ...  5360 58905 85498]\n"
     ]
    }
   ],
   "source": [
    "indices = np.arange(encoder_input.shape[0])\n",
    "np.random.shuffle(indices)\n",
    "print(indices)"
   ]
  },
  {
   "cell_type": "code",
   "execution_count": 27,
   "id": "6e22ac27",
   "metadata": {},
   "outputs": [],
   "source": [
    "encoder_input = encoder_input[indices]\n",
    "decoder_input = decoder_input[indices]\n",
    "decoder_target = decoder_target[indices]"
   ]
  },
  {
   "cell_type": "code",
   "execution_count": 28,
   "id": "bad2f579",
   "metadata": {},
   "outputs": [
    {
     "name": "stdout",
     "output_type": "stream",
     "text": [
      "테스트 데이터의 수 : 18950\n"
     ]
    }
   ],
   "source": [
    "n_of_val = int(len(encoder_input)*0.2)\n",
    "print('테스트 데이터의 수 :', n_of_val)"
   ]
  },
  {
   "cell_type": "code",
   "execution_count": 29,
   "id": "bafc848a",
   "metadata": {},
   "outputs": [
    {
     "name": "stdout",
     "output_type": "stream",
     "text": [
      "훈련 데이터의 개수 : 75804\n",
      "훈련 레이블의 개수 : 75804\n",
      "테스트 데이터의 개수 : 18950\n",
      "테스트 레이블의 개수 : 18950\n"
     ]
    }
   ],
   "source": [
    "encoder_input_train = encoder_input[:-n_of_val]\n",
    "decoder_input_train = decoder_input[:-n_of_val]\n",
    "decoder_target_train = decoder_target[:-n_of_val]\n",
    "\n",
    "encoder_input_test = encoder_input[-n_of_val:]\n",
    "decoder_input_test = decoder_input[-n_of_val:]\n",
    "decoder_target_test = decoder_target[-n_of_val:]\n",
    "\n",
    "print('훈련 데이터의 개수 :', len(encoder_input_train))\n",
    "print('훈련 레이블의 개수 :', len(decoder_input_train))\n",
    "print('테스트 데이터의 개수 :', len(encoder_input_test))\n",
    "print('테스트 레이블의 개수 :', len(decoder_input_test))"
   ]
  },
  {
   "cell_type": "code",
   "execution_count": 30,
   "id": "935d6816",
   "metadata": {},
   "outputs": [],
   "source": [
    "src_tokenizer = Tokenizer() # 토크나이저 정의\n",
    "src_tokenizer.fit_on_texts(encoder_input_train) # 입력된 데이터로부터 단어 집합 생성"
   ]
  },
  {
   "cell_type": "code",
   "execution_count": 31,
   "id": "80a04a8e",
   "metadata": {},
   "outputs": [
    {
     "name": "stdout",
     "output_type": "stream",
     "text": [
      "단어 집합(vocabulary)의 크기 : 67901\n",
      "등장 빈도가 6번 이하인 희귀 단어의 수: 46286\n",
      "단어 집합에서 희귀 단어를 제외시킬 경우의 단어 집합의 크기 21615\n",
      "단어 집합에서 희귀 단어의 비율: 68.16689003107466\n",
      "전체 등장 빈도에서 희귀 단어 등장 빈도 비율: 3.56357663024612\n"
     ]
    }
   ],
   "source": [
    "threshold = 7\n",
    "total_cnt = len(src_tokenizer.word_index) # 단어의 수\n",
    "rare_cnt = 0 # 등장 빈도수가 threshold보다 작은 단어의 개수를 카운트\n",
    "total_freq = 0 # 훈련 데이터의 전체 단어 빈도수 총 합\n",
    "rare_freq = 0 # 등장 빈도수가 threshold보다 작은 단어의 등장 빈도수의 총 합\n",
    "\n",
    "# 단어와 빈도수의 쌍(pair)을 key와 value로 받는다.\n",
    "for key, value in src_tokenizer.word_counts.items():\n",
    "    total_freq = total_freq + value\n",
    "\n",
    "    # 단어의 등장 빈도수가 threshold보다 작으면\n",
    "    if(value < threshold):\n",
    "        rare_cnt = rare_cnt + 1\n",
    "        rare_freq = rare_freq + value\n",
    "\n",
    "print('단어 집합(vocabulary)의 크기 :', total_cnt)\n",
    "print('등장 빈도가 %s번 이하인 희귀 단어의 수: %s'%(threshold - 1, rare_cnt))\n",
    "print('단어 집합에서 희귀 단어를 제외시킬 경우의 단어 집합의 크기 %s'%(total_cnt - rare_cnt))\n",
    "print(\"단어 집합에서 희귀 단어의 비율:\", (rare_cnt / total_cnt)*100)\n",
    "print(\"전체 등장 빈도에서 희귀 단어 등장 빈도 비율:\", (rare_freq / total_freq)*100)"
   ]
  },
  {
   "cell_type": "code",
   "execution_count": 33,
   "id": "c7f66d29",
   "metadata": {},
   "outputs": [],
   "source": [
    "src_vocab = 8000\n",
    "src_tokenizer = Tokenizer(num_words=src_vocab) # 단어 집합의 크기를 8,000으로 제한\n",
    "src_tokenizer.fit_on_texts(encoder_input_train) # 단어 집합 재생성\n"
   ]
  },
  {
   "cell_type": "code",
   "execution_count": 34,
   "id": "d07be92e",
   "metadata": {},
   "outputs": [
    {
     "name": "stdout",
     "output_type": "stream",
     "text": [
      "[[416, 7938, 1391, 165, 64, 6164, 1531, 5356, 309, 53, 817, 1067, 167, 2717, 125, 761, 21, 6165, 1, 1391, 2717, 822, 120, 23, 3773, 2316], [234, 287, 2752, 666, 2927, 5957, 741, 281, 3881, 5112, 55, 153, 4848, 3994, 7050, 313, 741, 3936, 794, 2376, 202, 2835, 7475, 2289, 3292, 2098, 482, 7684, 3394, 1], [1680, 38, 914, 617, 362, 1382, 5958, 198, 3970, 1049, 432, 198, 185, 565, 801, 1, 33, 180, 82, 5, 914, 68, 7, 226, 1382, 1210, 198, 217, 565]]\n"
     ]
    }
   ],
   "source": [
    "# 텍스트 시퀀스를 정수 시퀀스로 변환\n",
    "encoder_input_train = src_tokenizer.texts_to_sequences(encoder_input_train) \n",
    "encoder_input_test = src_tokenizer.texts_to_sequences(encoder_input_test)\n",
    "\n",
    "# 잘 진행되었는지 샘플 출력\n",
    "print(encoder_input_train[:3])"
   ]
  },
  {
   "cell_type": "code",
   "execution_count": 35,
   "id": "8e71060c",
   "metadata": {},
   "outputs": [],
   "source": [
    "tar_tokenizer = Tokenizer()\n",
    "tar_tokenizer.fit_on_texts(decoder_input_train)"
   ]
  },
  {
   "cell_type": "code",
   "execution_count": 37,
   "id": "0ac89847",
   "metadata": {},
   "outputs": [
    {
     "name": "stdout",
     "output_type": "stream",
     "text": [
      "단어 집합(vocabulary)의 크기 : 29641\n",
      "등장 빈도가 6번 이하인 희귀 단어의 수: 20287\n",
      "단어 집합에서 희귀 단어를 제외시킬 경우의 단어 집합의 크기 9354\n",
      "단어 집합에서 희귀 단어의 비율: 68.44236024425626\n",
      "전체 등장 빈도에서 희귀 단어 등장 빈도 비율: 5.450244286677753\n"
     ]
    }
   ],
   "source": [
    "threshold = 7\n",
    "total_cnt = len(tar_tokenizer.word_index) # 단어의 수\n",
    "rare_cnt = 0 # 등장 빈도수가 threshold보다 작은 단어의 개수를 카운트\n",
    "total_freq = 0 # 훈련 데이터의 전체 단어 빈도수 총 합\n",
    "rare_freq = 0 # 등장 빈도수가 threshold보다 작은 단어의 등장 빈도수의 총 합\n",
    "\n",
    "# 단어와 빈도수의 쌍(pair)을 key와 value로 받는다.\n",
    "for key, value in tar_tokenizer.word_counts.items():\n",
    "    total_freq = total_freq + value\n",
    "\n",
    "    # 단어의 등장 빈도수가 threshold보다 작으면\n",
    "    if(value < threshold):\n",
    "        rare_cnt = rare_cnt + 1\n",
    "        rare_freq = rare_freq + value\n",
    "\n",
    "print('단어 집합(vocabulary)의 크기 :', total_cnt)\n",
    "print('등장 빈도가 %s번 이하인 희귀 단어의 수: %s'%(threshold - 1, rare_cnt))\n",
    "print('단어 집합에서 희귀 단어를 제외시킬 경우의 단어 집합의 크기 %s'%(total_cnt - rare_cnt))\n",
    "print(\"단어 집합에서 희귀 단어의 비율:\", (rare_cnt / total_cnt)*100)\n",
    "print(\"전체 등장 빈도에서 희귀 단어 등장 빈도 비율:\", (rare_freq / total_freq)*100)"
   ]
  },
  {
   "cell_type": "code",
   "execution_count": 38,
   "id": "9ead213a",
   "metadata": {},
   "outputs": [
    {
     "name": "stdout",
     "output_type": "stream",
     "text": [
      "input\n",
      "input  [[1, 24, 61, 3, 73, 4, 36, 281], [1, 1004, 363, 81, 188, 101], [1, 726, 383, 3, 5, 230], [1, 3, 950, 7], [1, 1620, 15, 129, 170, 16]]\n",
      "target\n",
      "decoder  [[24, 61, 3, 73, 4, 36, 281, 2], [1004, 363, 81, 188, 101, 2], [726, 383, 3, 5, 230, 2], [3, 950, 7, 2], [1620, 15, 129, 170, 16, 2]]\n"
     ]
    }
   ],
   "source": [
    "tar_vocab = 2000\n",
    "tar_tokenizer = Tokenizer(num_words=tar_vocab) \n",
    "tar_tokenizer.fit_on_texts(decoder_input_train)\n",
    "tar_tokenizer.fit_on_texts(decoder_target_train)\n",
    "\n",
    "# 텍스트 시퀀스를 정수 시퀀스로 변환\n",
    "decoder_input_train = tar_tokenizer.texts_to_sequences(decoder_input_train) \n",
    "decoder_target_train = tar_tokenizer.texts_to_sequences(decoder_target_train)\n",
    "decoder_input_test = tar_tokenizer.texts_to_sequences(decoder_input_test)\n",
    "decoder_target_test = tar_tokenizer.texts_to_sequences(decoder_target_test)\n",
    "\n",
    "# 잘 변환되었는지 확인\n",
    "print('input')\n",
    "print('input ',decoder_input_train[:5])\n",
    "print('target')\n",
    "print('decoder ',decoder_target_train[:5])"
   ]
  },
  {
   "cell_type": "code",
   "execution_count": 39,
   "id": "055e4c0f",
   "metadata": {},
   "outputs": [
    {
     "name": "stdout",
     "output_type": "stream",
     "text": [
      "삭제할 훈련 데이터의 개수 : 13\n",
      "삭제할 테스트 데이터의 개수 : 2\n",
      "훈련 데이터의 개수 : 75791\n",
      "훈련 레이블의 개수 : 75791\n",
      "테스트 데이터의 개수 : 18948\n",
      "테스트 레이블의 개수 : 18948\n"
     ]
    }
   ],
   "source": [
    "drop_train = [index for index, sentence in enumerate(decoder_input_train) if len(sentence) == 1]\n",
    "drop_test = [index for index, sentence in enumerate(decoder_input_test) if len(sentence) == 1]\n",
    "\n",
    "print('삭제할 훈련 데이터의 개수 :', len(drop_train))\n",
    "print('삭제할 테스트 데이터의 개수 :', len(drop_test))\n",
    "\n",
    "encoder_input_train = [sentence for index, sentence in enumerate(encoder_input_train) if index not in drop_train]\n",
    "decoder_input_train = [sentence for index, sentence in enumerate(decoder_input_train) if index not in drop_train]\n",
    "decoder_target_train = [sentence for index, sentence in enumerate(decoder_target_train) if index not in drop_train]\n",
    "\n",
    "encoder_input_test = [sentence for index, sentence in enumerate(encoder_input_test) if index not in drop_test]\n",
    "decoder_input_test = [sentence for index, sentence in enumerate(decoder_input_test) if index not in drop_test]\n",
    "decoder_target_test = [sentence for index, sentence in enumerate(decoder_target_test) if index not in drop_test]\n",
    "\n",
    "print('훈련 데이터의 개수 :', len(encoder_input_train))\n",
    "print('훈련 레이블의 개수 :', len(decoder_input_train))\n",
    "print('테스트 데이터의 개수 :', len(encoder_input_test))\n",
    "print('테스트 레이블의 개수 :', len(decoder_input_test))"
   ]
  },
  {
   "cell_type": "code",
   "execution_count": 40,
   "id": "afe7afa9",
   "metadata": {},
   "outputs": [],
   "source": [
    "# 패딩\n",
    "encoder_input_train = pad_sequences(encoder_input_train, maxlen=text_max_len, padding='post')\n",
    "encoder_input_test = pad_sequences(encoder_input_test, maxlen=text_max_len, padding='post')\n",
    "decoder_input_train = pad_sequences(decoder_input_train, maxlen=headlines_max_len, padding='post')\n",
    "decoder_target_train = pad_sequences(decoder_target_train, maxlen=headlines_max_len, padding='post')\n",
    "decoder_input_test = pad_sequences(decoder_input_test, maxlen=headlines_max_len, padding='post')\n",
    "decoder_target_test = pad_sequences(decoder_target_test, maxlen=headlines_max_len, padding='post')"
   ]
  },
  {
   "cell_type": "markdown",
   "id": "0e15d9cf",
   "metadata": {},
   "source": [
    "모델 설계, 훈련"
   ]
  },
  {
   "cell_type": "code",
   "execution_count": 41,
   "id": "a7329826",
   "metadata": {},
   "outputs": [
    {
     "name": "stdout",
     "output_type": "stream",
     "text": [
      "WARNING:tensorflow:Layer lstm will not use cuDNN kernels since it doesn't meet the criteria. It will use a generic GPU kernel as fallback when running on GPU.\n",
      "WARNING:tensorflow:Layer lstm_1 will not use cuDNN kernels since it doesn't meet the criteria. It will use a generic GPU kernel as fallback when running on GPU.\n",
      "WARNING:tensorflow:Layer lstm_2 will not use cuDNN kernels since it doesn't meet the criteria. It will use a generic GPU kernel as fallback when running on GPU.\n"
     ]
    }
   ],
   "source": [
    "from tensorflow.keras.layers import Input, LSTM, Embedding, Dense, Concatenate, TimeDistributed\n",
    "from tensorflow.keras.models import Model\n",
    "from tensorflow.keras.callbacks import EarlyStopping, ModelCheckpoint\n",
    "\n",
    "\n",
    "# 인코더 설계 시작\n",
    "embedding_dim = 128\n",
    "hidden_size = 256\n",
    "\n",
    "# 인코더\n",
    "encoder_inputs = Input(shape=(text_max_len,))\n",
    "\n",
    "# 인코더의 임베딩 층\n",
    "enc_emb = Embedding(src_vocab, embedding_dim)(encoder_inputs)\n",
    "\n",
    "# 인코더의 LSTM 1\n",
    "encoder_lstm1 = LSTM(hidden_size, return_sequences=True, return_state=True ,dropout = 0.4, recurrent_dropout = 0.4)\n",
    "encoder_output1, state_h1, state_c1 = encoder_lstm1(enc_emb)\n",
    "\n",
    "# 인코더의 LSTM 2\n",
    "encoder_lstm2 = LSTM(hidden_size, return_sequences=True, return_state=True, dropout=0.4, recurrent_dropout=0.4)\n",
    "encoder_output2, state_h2, state_c2 = encoder_lstm2(encoder_output1)\n",
    "\n",
    "# 인코더의 LSTM 3\n",
    "encoder_lstm3 = LSTM(hidden_size, return_state=True, return_sequences=True, dropout=0.4, recurrent_dropout=0.4)\n",
    "encoder_outputs, state_h, state_c= encoder_lstm3(encoder_output2)"
   ]
  },
  {
   "cell_type": "code",
   "execution_count": 42,
   "id": "c5b219cc",
   "metadata": {},
   "outputs": [
    {
     "name": "stdout",
     "output_type": "stream",
     "text": [
      "WARNING:tensorflow:Layer lstm_3 will not use cuDNN kernels since it doesn't meet the criteria. It will use a generic GPU kernel as fallback when running on GPU.\n"
     ]
    }
   ],
   "source": [
    "# 디코더 설계\n",
    "decoder_inputs = Input(shape=(None,))\n",
    "\n",
    "# 디코더의 임베딩 층\n",
    "dec_emb_layer = Embedding(tar_vocab, embedding_dim)\n",
    "dec_emb = dec_emb_layer(decoder_inputs)\n",
    "\n",
    "# 디코더의 LSTM\n",
    "decoder_lstm = LSTM(hidden_size, return_sequences=True, return_state=True, dropout=0.4, recurrent_dropout=0.2)\n",
    "decoder_outputs, _, _ = decoder_lstm(dec_emb, initial_state=[state_h, state_c])"
   ]
  },
  {
   "cell_type": "code",
   "execution_count": 43,
   "id": "1eadc194",
   "metadata": {},
   "outputs": [
    {
     "name": "stdout",
     "output_type": "stream",
     "text": [
      "Model: \"model\"\n",
      "__________________________________________________________________________________________________\n",
      "Layer (type)                    Output Shape         Param #     Connected to                     \n",
      "==================================================================================================\n",
      "input_1 (InputLayer)            [(None, 42)]         0                                            \n",
      "__________________________________________________________________________________________________\n",
      "embedding (Embedding)           (None, 42, 128)      1024000     input_1[0][0]                    \n",
      "__________________________________________________________________________________________________\n",
      "lstm (LSTM)                     [(None, 42, 256), (N 394240      embedding[0][0]                  \n",
      "__________________________________________________________________________________________________\n",
      "input_2 (InputLayer)            [(None, None)]       0                                            \n",
      "__________________________________________________________________________________________________\n",
      "lstm_1 (LSTM)                   [(None, 42, 256), (N 525312      lstm[0][0]                       \n",
      "__________________________________________________________________________________________________\n",
      "embedding_1 (Embedding)         (None, None, 128)    256000      input_2[0][0]                    \n",
      "__________________________________________________________________________________________________\n",
      "lstm_2 (LSTM)                   [(None, 42, 256), (N 525312      lstm_1[0][0]                     \n",
      "__________________________________________________________________________________________________\n",
      "lstm_3 (LSTM)                   [(None, None, 256),  394240      embedding_1[0][0]                \n",
      "                                                                 lstm_2[0][1]                     \n",
      "                                                                 lstm_2[0][2]                     \n",
      "__________________________________________________________________________________________________\n",
      "dense (Dense)                   (None, None, 2000)   514000      lstm_3[0][0]                     \n",
      "==================================================================================================\n",
      "Total params: 3,633,104\n",
      "Trainable params: 3,633,104\n",
      "Non-trainable params: 0\n",
      "__________________________________________________________________________________________________\n"
     ]
    }
   ],
   "source": [
    "# 디코더의 출력층\n",
    "decoder_softmax_layer = Dense(tar_vocab, activation='softmax')\n",
    "decoder_softmax_outputs = decoder_softmax_layer(decoder_outputs) \n",
    "\n",
    "# 모델 정의\n",
    "model = Model([encoder_inputs, decoder_inputs], decoder_softmax_outputs)\n",
    "model.summary()"
   ]
  },
  {
   "cell_type": "code",
   "execution_count": 44,
   "id": "9b82ccd2",
   "metadata": {},
   "outputs": [
    {
     "name": "stdout",
     "output_type": "stream",
     "text": [
      "Model: \"model_1\"\n",
      "__________________________________________________________________________________________________\n",
      "Layer (type)                    Output Shape         Param #     Connected to                     \n",
      "==================================================================================================\n",
      "input_1 (InputLayer)            [(None, 42)]         0                                            \n",
      "__________________________________________________________________________________________________\n",
      "embedding (Embedding)           (None, 42, 128)      1024000     input_1[0][0]                    \n",
      "__________________________________________________________________________________________________\n",
      "lstm (LSTM)                     [(None, 42, 256), (N 394240      embedding[0][0]                  \n",
      "__________________________________________________________________________________________________\n",
      "input_2 (InputLayer)            [(None, None)]       0                                            \n",
      "__________________________________________________________________________________________________\n",
      "lstm_1 (LSTM)                   [(None, 42, 256), (N 525312      lstm[0][0]                       \n",
      "__________________________________________________________________________________________________\n",
      "embedding_1 (Embedding)         (None, None, 128)    256000      input_2[0][0]                    \n",
      "__________________________________________________________________________________________________\n",
      "lstm_2 (LSTM)                   [(None, 42, 256), (N 525312      lstm_1[0][0]                     \n",
      "__________________________________________________________________________________________________\n",
      "lstm_3 (LSTM)                   [(None, None, 256),  394240      embedding_1[0][0]                \n",
      "                                                                 lstm_2[0][1]                     \n",
      "                                                                 lstm_2[0][2]                     \n",
      "__________________________________________________________________________________________________\n",
      "attention_layer (AdditiveAttent (None, None, 256)    256         lstm_3[0][0]                     \n",
      "                                                                 lstm_2[0][0]                     \n",
      "__________________________________________________________________________________________________\n",
      "concat_layer (Concatenate)      (None, None, 512)    0           lstm_3[0][0]                     \n",
      "                                                                 attention_layer[0][0]            \n",
      "__________________________________________________________________________________________________\n",
      "dense_1 (Dense)                 (None, None, 2000)   1026000     concat_layer[0][0]               \n",
      "==================================================================================================\n",
      "Total params: 4,145,360\n",
      "Trainable params: 4,145,360\n",
      "Non-trainable params: 0\n",
      "__________________________________________________________________________________________________\n"
     ]
    }
   ],
   "source": [
    "from tensorflow.keras.layers import AdditiveAttention\n",
    "\n",
    "# 어텐션 층(어텐션 함수)\n",
    "attn_layer = AdditiveAttention(name='attention_layer')\n",
    "\n",
    "# 인코더와 디코더의 모든 time step의 hidden state를 어텐션 층에 전달하고 결과를 리턴\n",
    "attn_out = attn_layer([decoder_outputs, encoder_outputs])\n",
    "\n",
    "\n",
    "# 어텐션의 결과와 디코더의 hidden state들을 연결\n",
    "decoder_concat_input = Concatenate(axis=-1, name='concat_layer')([decoder_outputs, attn_out])\n",
    "\n",
    "# 디코더의 출력층\n",
    "decoder_softmax_layer = Dense(tar_vocab, activation='softmax')\n",
    "decoder_softmax_outputs = decoder_softmax_layer(decoder_concat_input)\n",
    "\n",
    "# 모델 정의\n",
    "model = Model([encoder_inputs, decoder_inputs], decoder_softmax_outputs)\n",
    "model.summary()"
   ]
  },
  {
   "cell_type": "code",
   "execution_count": 45,
   "id": "b2f61870",
   "metadata": {},
   "outputs": [
    {
     "name": "stdout",
     "output_type": "stream",
     "text": [
      "Epoch 1/50\n",
      "297/297 [==============================] - 180s 576ms/step - loss: 3.8764 - val_loss: 3.6007\n",
      "Epoch 2/50\n",
      "297/297 [==============================] - 168s 565ms/step - loss: 3.4031 - val_loss: 3.2995\n",
      "Epoch 3/50\n",
      "297/297 [==============================] - 168s 565ms/step - loss: 3.1404 - val_loss: 3.1249\n",
      "Epoch 4/50\n",
      "297/297 [==============================] - 166s 561ms/step - loss: 2.9615 - val_loss: 2.9386\n",
      "Epoch 5/50\n",
      "297/297 [==============================] - 165s 556ms/step - loss: 2.8205 - val_loss: 2.8712\n",
      "Epoch 6/50\n",
      "297/297 [==============================] - 166s 557ms/step - loss: 2.7058 - val_loss: 2.7583\n",
      "Epoch 7/50\n",
      "297/297 [==============================] - 167s 563ms/step - loss: 2.6120 - val_loss: 2.6929\n",
      "Epoch 8/50\n",
      "297/297 [==============================] - 166s 559ms/step - loss: 2.5330 - val_loss: 2.6419\n",
      "Epoch 9/50\n",
      "297/297 [==============================] - 166s 558ms/step - loss: 2.4646 - val_loss: 2.5902\n",
      "Epoch 10/50\n",
      "297/297 [==============================] - 166s 560ms/step - loss: 2.4045 - val_loss: 2.5622\n",
      "Epoch 11/50\n",
      "297/297 [==============================] - 166s 559ms/step - loss: 2.3503 - val_loss: 2.5368\n",
      "Epoch 12/50\n",
      "297/297 [==============================] - 166s 559ms/step - loss: 2.3027 - val_loss: 2.5059\n",
      "Epoch 13/50\n",
      "297/297 [==============================] - 165s 557ms/step - loss: 2.2582 - val_loss: 2.4826\n",
      "Epoch 14/50\n",
      "297/297 [==============================] - 166s 559ms/step - loss: 2.2190 - val_loss: 2.4715\n",
      "Epoch 15/50\n",
      "297/297 [==============================] - 166s 560ms/step - loss: 2.1810 - val_loss: 2.4640\n",
      "Epoch 16/50\n",
      "297/297 [==============================] - 167s 562ms/step - loss: 2.1473 - val_loss: 2.4451\n",
      "Epoch 17/50\n",
      "297/297 [==============================] - 167s 561ms/step - loss: 2.1157 - val_loss: 2.4453\n",
      "Epoch 18/50\n",
      "297/297 [==============================] - 168s 566ms/step - loss: 2.0856 - val_loss: 2.4443\n",
      "Epoch 19/50\n",
      "297/297 [==============================] - 167s 562ms/step - loss: 2.0578 - val_loss: 2.4153\n",
      "Epoch 20/50\n",
      "297/297 [==============================] - 167s 561ms/step - loss: 2.0311 - val_loss: 2.4172\n",
      "Epoch 21/50\n",
      "297/297 [==============================] - 166s 560ms/step - loss: 2.0074 - val_loss: 2.4075\n",
      "Epoch 22/50\n",
      "297/297 [==============================] - 167s 561ms/step - loss: 1.9833 - val_loss: 2.4046\n",
      "Epoch 23/50\n",
      "297/297 [==============================] - 168s 565ms/step - loss: 1.9619 - val_loss: 2.4028\n",
      "Epoch 24/50\n",
      "297/297 [==============================] - 168s 565ms/step - loss: 1.9406 - val_loss: 2.3974\n",
      "Epoch 25/50\n",
      "297/297 [==============================] - 167s 563ms/step - loss: 1.9200 - val_loss: 2.3953\n",
      "Epoch 26/50\n",
      "297/297 [==============================] - 167s 564ms/step - loss: 1.9021 - val_loss: 2.4056\n",
      "Epoch 27/50\n",
      "297/297 [==============================] - 167s 563ms/step - loss: 1.8829 - val_loss: 2.3997\n",
      "Epoch 00027: early stopping\n"
     ]
    }
   ],
   "source": [
    "#모델훈련\n",
    "model.compile(optimizer='rmsprop', loss='sparse_categorical_crossentropy')\n",
    "es = EarlyStopping(monitor='val_loss', patience=2, verbose=1)\n",
    "history = model.fit(x=[encoder_input_train, decoder_input_train], y=decoder_target_train, \\\n",
    "          validation_data=([encoder_input_test, decoder_input_test], decoder_target_test), \\\n",
    "          batch_size=256, callbacks=[es], epochs=50)"
   ]
  },
  {
   "cell_type": "code",
   "execution_count": 46,
   "id": "aa73f165",
   "metadata": {},
   "outputs": [
    {
     "data": {
      "image/png": "[encoded data removed]",
      "text/plain": [
       "<Figure size 432x288 with 1 Axes>"
      ]
     },
     "metadata": {
      "needs_background": "light"
     },
     "output_type": "display_data"
    }
   ],
   "source": [
    "plt.plot(history.history['loss'], label='train')\n",
    "plt.plot(history.history['val_loss'], label='test')\n",
    "plt.legend()\n",
    "plt.show()"
   ]
  },
  {
   "cell_type": "markdown",
   "id": "150388cf",
   "metadata": {},
   "source": [
    "인퍼런스 모델 구현"
   ]
  },
  {
   "cell_type": "code",
   "execution_count": 47,
   "id": "451043b6",
   "metadata": {},
   "outputs": [],
   "source": [
    "src_index_to_word = src_tokenizer.index_word # 원문 단어 집합에서 정수 -> 단어를 얻음\n",
    "tar_word_to_index = tar_tokenizer.word_index # 요약 단어 집합에서 단어 -> 정수를 얻음\n",
    "tar_index_to_word = tar_tokenizer.index_word # 요약 단어 집합에서 정수 -> 단어를 얻음"
   ]
  },
  {
   "cell_type": "code",
   "execution_count": 51,
   "id": "dd7e3001",
   "metadata": {},
   "outputs": [],
   "source": [
    "# 인코더 설계\n",
    "encoder_model = Model(inputs=encoder_inputs, outputs=[encoder_outputs, state_h, state_c])\n",
    "\n",
    "# 이전 시점의 상태들을 저장하는 텐서\n",
    "decoder_state_input_h = Input(shape=(hidden_size,))\n",
    "decoder_state_input_c = Input(shape=(hidden_size,))\n",
    "\n",
    "dec_emb2 = dec_emb_layer(decoder_inputs)\n",
    "\n",
    "# 문장의 다음 단어를 예측하기 위해서 초기 상태(initial_state)를 이전 시점의 상태로 사용. 이는 뒤의 함수 decode_sequence()에 구현\n",
    "# 훈련 과정에서와 달리 LSTM의 리턴하는 은닉 상태와 셀 상태인 state_h와 state_c를 버리지 않음.\n",
    "decoder_outputs2, state_h2, state_c2 = decoder_lstm(dec_emb2, initial_state=[decoder_state_input_h, decoder_state_input_c])\n",
    "\n",
    "# 어텐션 함수\n",
    "decoder_hidden_state_input = Input(shape=(text_max_len, hidden_size))\n",
    "attn_out_inf = attn_layer([decoder_outputs2, decoder_hidden_state_input])\n",
    "decoder_inf_concat = Concatenate(axis=-1, name='concat')([decoder_outputs2, attn_out_inf])\n",
    "\n",
    "# 디코더의 출력층\n",
    "decoder_outputs2 = decoder_softmax_layer(decoder_inf_concat) \n",
    "\n",
    "# 최종 디코더 모델\n",
    "decoder_model = Model(\n",
    "    [decoder_inputs] + [decoder_hidden_state_input,decoder_state_input_h, decoder_state_input_c],\n",
    "    [decoder_outputs2] + [state_h2, state_c2])\n",
    "\n",
    "def decode_sequence(input_seq):\n",
    "    # 입력으로부터 인코더의 상태를 얻음\n",
    "    e_out, e_h, e_c = encoder_model.predict(input_seq)\n",
    "\n",
    "     # <SOS>에 해당하는 토큰 생성\n",
    "    target_seq = np.zeros((1,1))\n",
    "    target_seq[0, 0] = tar_word_to_index['sostoken']\n",
    "\n",
    "    stop_condition = False\n",
    "    decoded_sentence = ''\n",
    "    while not stop_condition: # stop_condition이 True가 될 때까지 루프 반복\n",
    "\n",
    "        output_tokens, h, c = decoder_model.predict([target_seq] + [e_out, e_h, e_c])\n",
    "        sampled_token_index = np.argmax(output_tokens[0, -1, :])\n",
    "        sampled_token = tar_index_to_word[sampled_token_index]\n",
    "\n",
    "        if (sampled_token!='eostoken'):\n",
    "            decoded_sentence += ' '+sampled_token\n",
    "\n",
    "        #  <eos>에 도달하거나 최대 길이를 넘으면 중단.\n",
    "        if (sampled_token == 'eostoken'  or len(decoded_sentence.split()) >= (headlines_max_len-1)):\n",
    "            stop_condition = True\n",
    "\n",
    "        # 길이가 1인 타겟 시퀀스를 업데이트\n",
    "        target_seq = np.zeros((1,1))\n",
    "        target_seq[0, 0] = sampled_token_index\n",
    "\n",
    "        # 상태를 업데이트 합니다.\n",
    "        e_h, e_c = h, c\n",
    "\n",
    "    return decoded_sentence"
   ]
  },
  {
   "cell_type": "markdown",
   "id": "15c4f91e",
   "metadata": {},
   "source": [
    "모델 테스트"
   ]
  },
  {
   "cell_type": "code",
   "execution_count": 52,
   "id": "f182c899",
   "metadata": {},
   "outputs": [],
   "source": [
    "# 테스트를 위해 정수를 모두 텍스트로 변환\n",
    "# 원문의 정수 시퀀스를 텍스트 시퀀스로 변환, 패딩제외\n",
    "def seq2text(input_seq):\n",
    "    temp=''\n",
    "    for i in input_seq:\n",
    "        if (i!=0):\n",
    "            temp = temp + src_index_to_word[i]+' '\n",
    "    return temp\n",
    "\n",
    "# 요약문의 정수 시퀀스를 텍스트 시퀀스로 변환\n",
    "def seq2summary(input_seq):\n",
    "    temp=''\n",
    "    for i in input_seq:\n",
    "        if ((i!=0 and i!=tar_word_to_index['sostoken']) and i!=tar_word_to_index['eostoken']):\n",
    "            temp = temp + tar_index_to_word[i] + ' '\n",
    "    return temp\n"
   ]
  },
  {
   "cell_type": "code",
   "execution_count": 53,
   "id": "4adcdc58",
   "metadata": {},
   "outputs": [
    {
     "name": "stdout",
     "output_type": "stream",
     "text": [
      "원문 : engineer founded us based software company left firm contest karnataka elections karnataka years representing swaraj india party took decision mla father passed away february reportedly congress decided support field candidate seat \n",
      "실제 요약 : leaves firm he in us to fight karnataka polls \n",
      "예측 요약 :  startup wins elections from karnataka assembly elections\n",
      "\n",
      "\n",
      "원문 : federal bureau investigation released age photographs four alleged charged pan american flight resulted killing people including indian flight attendant lost life protecting passengers us offers million bounty attackers nn \n",
      "실제 요약 : fbi releases photos of flight \n",
      "예측 요약 :  cbi probe into in flight\n",
      "\n",
      "\n",
      "원문 : network estimated generate billion revenue opportunity indian telecom operators according business potential report technology create opportunities sectors like manufacturing energy followed public safety health sectors friday showcased india first ever live end end demonstration \n",
      "실제 요약 : to billion revenue by report \n",
      "예측 요약 :  to invest billion in india\n",
      "\n",
      "\n",
      "원문 : kapil sharma responding rumours cannot handle said industry years suddenly start showing misusing added saying able handle cannot deal success said whatever today hard work \n",
      "실제 요약 : been for yrs why will now kapil \n",
      "예측 요약 :  cannot show to work with kapil sharma\n",
      "\n",
      "\n",
      "원문 : video shared bengaluru police shows city commissioner police kumar video went viral caption read respect given uniform uniform shows value discipline facebook users commented great police officer sir true officer human gesture \n",
      "실제 요약 : bengaluru top cop video goes viral \n",
      "예측 요약 :  video shows cop traffic on fb\n",
      "\n",
      "\n",
      "원문 : large world powerful particle accelerator detected often dubbed god particle known interact massive particles discovered two said researchers adding seen portal new physics \n",
      "실제 요약 : world biggest god again \n",
      "예측 요약 :  world oldest discovered\n",
      "\n",
      "\n",
      "원문 : ben year old american scored first ever hole one last month playing golf around years taken golf age announced retirement following round watching seemed lord knew last round gave hole one said \n",
      "실제 요약 : year old hits first hole in one after years of \n",
      "예측 요약 :  yr old scores scores in\n",
      "\n",
      "\n",
      "원문 : niti aayog soon partner three states turn role models others field education health initiative named states chosen well laid process state governments make \n",
      "실제 요약 : to states into role for others \n",
      "예측 요약 :  to be in\n",
      "\n",
      "\n",
      "원문 : year old australian boy said legs covered blood tiny marine beach family said walked eating legs water marine later identified eating sea known \n",
      "실제 요약 : in australia \n",
      "예측 요약 :  australian man gets from wearing\n",
      "\n",
      "\n",
      "원문 : benefits prime minister narendra modi foreign visits cannot part official records prime minister office told central information commission comes rti approached claiming received complete details information sought pm narendra modi foreign visits \n",
      "실제 요약 : cannot of pm modi foreign visits \n",
      "예측 요약 :  cannot give to pm modi on foreign pm modi\n",
      "\n",
      "\n",
      "원문 : three policemen injured monday paris protests members asian community killing chinese man police raid turned violent protesters also allegedly set police car fire french police claimed man shot self defence holding time raid \n",
      "실제 요약 : anti police protests turn in france \n",
      "예측 요약 :  paris police to shoot shot dead in paris\n",
      "\n",
      "\n",
      "원문 : online platform buying selling pre owned cars tuesday said raised million seed funding led ventures indian angel network member co founders kunal shah sandeep tandon also participated round launched currently presence ncr \n",
      "실제 요약 : pre cars raises cr led by \n",
      "예측 요약 :  invests crore in series\n",
      "\n",
      "\n",
      "원문 : wrestler sushil kumar join wwe company vice president said hard convince hard tell leave amazing life india come risk america sure anything said sushil approached wwe october last year \n",
      "실제 요약 : kumar hard to not vice prez \n",
      "예측 요약 :  never never leave for any party\n",
      "\n",
      "\n",
      "원문 : sbi said research report banks may lose crore annually due investment card machines costs revenues demonetisation number point sale increased lakh march lakh july average banks per day \n",
      "실제 요약 : card may cause loss of cr to banks sbi \n",
      "예측 요약 :  sbi banks to pay crore loss to\n",
      "\n",
      "\n",
      "원문 : kerala witnessed state wide shutdown thursday policemen forcibly dragged away protesting family members nehru college student found dead hostel student mother hospitalised injuries police action aimed peaceful protest delay probe death \n",
      "실제 요약 : kerala shuts down over police action on dead student kin \n",
      "예측 요약 :  kerala govt orders probe to kin of martyred in\n",
      "\n",
      "\n",
      "원문 : one two men england rounder ben stokes punched outside nightclub bristol reportedly former british army soldier ryan served afghanistan stokes investigated accusations causing actual harm two men stokes considered selection notice said \n",
      "실제 요약 : ex during reports \n",
      "예측 요약 :  indian origin man sues for journo\n",
      "\n",
      "\n",
      "원문 : refusing petition bar people criminal charges contesting elections supreme court tuesday remarked society right better people stating parliament must make law ensure politicians criminal cases enter politics court added people kept bay \n",
      "실제 요약 : has right to be by better people sc \n",
      "예측 요약 :  do not give to ban on sc\n",
      "\n",
      "\n",
      "원문 : restaurant maldives set converted yoga studio yoga classes conducted island resort announced restaurant launched largest glass underwater world interestingly located metres surface \n",
      "실제 요약 : to be into yoga \n",
      "예측 요약 :  to be turned into\n",
      "\n",
      "\n",
      "원문 : body struggling actress chaudhary found apartment mumbai monday police said police believe year old worked kangana ranaut starrer several production tv shows allegedly murdered days ago room found locked outside ac switched \n",
      "실제 요약 : body of actress found in mumbai murder suspected \n",
      "예측 요약 :  mumbai police arrest for\n",
      "\n",
      "\n",
      "원문 : talking full stretch complete th run second windies odi virat kohli said six times team duty selected kohli added take things granted never take easy stage said \n",
      "실제 요약 : will six times in an over for my team virat kohli \n",
      "예측 요약 :  kohli is like virat kohli\n",
      "\n",
      "\n",
      "원문 : asked set sidharth malhotra someone would alia bhatt answered advani alia added sidharth relationship work date jacqueline fernandez alia answered question playing rapid fire round koffee karan nn \n",
      "실제 요약 : would set up with sidharth if had to alia \n",
      "예측 요약 :  alia sidharth sidharth alia sidharth\n",
      "\n",
      "\n",
      "원문 : id app added new scanning feature let users numbers make upi payments scan update allows app scan numbers print pointing camera numbers app also added fast track numbers feature lists toll free numbers emergency services \n",
      "실제 요약 : to let users and pay by \n",
      "예측 요약 :  app lets users control feature in app\n",
      "\n",
      "\n",
      "원문 : around cases registered till november year hyderabad traffic police minors parents vehicle owners letting minors drive city far persons including minors parents convicted court hyderabad traffic police also convicted around people year driving \n",
      "실제 요약 : driving cases in hyderabad in \n",
      "예측 요약 :  hyd cops traffic in traffic for traffic\n",
      "\n",
      "\n",
      "원문 : former south african captain smith said sure virat kohli long term captaincy option team india smith added kohli reaction situations sometimes negative impact team think needs someone environment challenge different ideas help grow smith said \n",
      "실제 요약 : if kohli long term ex sa captain \n",
      "예측 요약 :  kohli is the best ex aus captain\n",
      "\n",
      "\n",
      "원문 : google thursday terminated youtube channels google accounts linked islamic republic iran broadcasting comes facebook removed accounts campaign linked iran actors engaged type influence operation violate policies google said adding share findings law enforcement agencies \n",
      "실제 요약 : after facebook google removes accounts linked to iran \n",
      "예측 요약 :  google removed from iran play nuclear content\n",
      "\n",
      "\n",
      "원문 : indian hockey team chief coach singh blamed poor team exit ongoing men hockey world cup stage tournament singh said international hockey federation needs address issue india lost netherlands fourth last \n",
      "실제 요약 : india hockey world cup exit due to poor coach \n",
      "예측 요약 :  hockey coach blames hockey hockey coach for hockey hockey coach\n",
      "\n",
      "\n",
      "원문 : whatsapp reportedly looking open first india office hyderabad ceo chris daniels met telangana minister rama rao thursday comes whatsapp agreed meet demands central government except origin messages facebook owns whatsapp launched asia hub hyderabad \n",
      "실제 요약 : whatsapp may open its st india office in hyderabad report \n",
      "예측 요약 :  whatsapp st indian to win cwg\n",
      "\n",
      "\n",
      "원문 : access internet remain non indian government approved net net telecom service providers must treat internet traffic equally without regard type origin destination content internet access service provider block slow grant speeds particular content \n",
      "실제 요약 : internet to remain free govt approves net \n",
      "예측 요약 :  internet services rules to be\n",
      "\n",
      "\n",
      "원문 : hurled several russian flags us president donald trump shouting trump president agents russian government steal election said earlier year asked trump adviser son law sign russian flag \n",
      "실제 요약 : throws russian at us president trump \n",
      "예측 요약 :  trump putin to probe into russia\n",
      "\n",
      "\n",
      "원문 : los angeles mayor eric tuesday declared april la la land day day celebrate dreams dance safely take date park fall love somebody city said meanwhile los angeles city hall celebrations \n",
      "실제 요약 : declares april as land day \n",
      "예측 요약 :  mayor house in day\n",
      "\n",
      "\n",
      "원문 : centre reportedly planning green registration plates electric vehicles help vehicles giving treatment like special parking private electric vehicles may green plates numbers letters white commercial ones may numbers letters written yellow \n",
      "실제 요약 : vehicles may get number for special \n",
      "예측 요약 :  govt plans to electric vehicles\n",
      "\n",
      "\n",
      "원문 : class board examinations council indian school certificate examinations specific scores awarded even single candidate last five years reason missing numbers said marks board \n",
      "실제 요약 : no one awarded scores in th exams for yrs \n",
      "예측 요약 :  cbse class exams scores in cbse class exams\n",
      "\n",
      "\n",
      "원문 : veteran bjp leader advani said former prime minister lal shastri former rss chief guru national issues stating shastri dedicated advani said former pm towards rss last year rss chief mohan bhagwat described shastri lok \n",
      "실제 요약 : ex pm shastri used to rss chief \n",
      "예측 요약 :  ex pm modi rss chief\n",
      "\n",
      "\n",
      "원문 : new counter terrorism measures passed australia children young could held days without charges justice minister michael said move aimed recruitment children groups isis however added minors would subject level \n",
      "실제 요약 : new australian terrorism allow of yr \n",
      "예측 요약 :  new zealand to get new\n",
      "\n",
      "\n",
      "원문 : government announced people made deposits lakh november december mention income tax returns also unveiled income tax return form separate section deposits providing aadhaar returns made mandatory \n",
      "실제 요약 : over lakh during note ban must be in returns \n",
      "예측 요약 :  govt lakh for tax returns to\n",
      "\n",
      "\n",
      "원문 : pacer james anderson england highest test wicket taker become first bowler history take wickets lord cricket ground year old achieved feat dismissing india murali vijay second test sunday anderson second bowler ex sri lankan spinner take wickets single venue \n",
      "실제 요약 : st ever bowler to take test wickets at lord \n",
      "예측 요약 :  becomes nd highest pacer to take wickets in tests\n",
      "\n",
      "\n",
      "원문 : europe motorcycle brand also india fastest growing brand owners exclusive country world championship titles every ready race launched india also awards including indian motorcycle year \n",
      "실제 요약 : india fastest brand \n",
      "예측 요약 :  named most expensive for the world\n",
      "\n",
      "\n",
      "원문 : uk based researchers mars conditions discovered planet thin atmosphere combined warm temperatures causes surface water sand enables transport resulting new phenomenon happen earth could help understand similar planets said researchers \n",
      "실제 요약 : mars from study \n",
      "예측 요약 :  planet planet in\n",
      "\n",
      "\n",
      "원문 : many indians rescued safely different countries three years external affairs minister sushma swaraj said sunday also said number passport country increased span three years speaking inauguration india first bhavan mumbai \n",
      "실제 요약 : indians rescued in yrs sushma swaraj \n",
      "예측 요약 :  indian rescued from swaraj\n",
      "\n",
      "\n",
      "원문 : air zimbabwe fired employees nearly half workforce order save airline organisation chairman said affected workers sent paid leave receive three months salary compensation loss employment notably state run airline million debt \n",
      "실제 요약 : air fires nearly of staff amid crore debt \n",
      "예측 요약 :  air staff fires staff staff after staff pay\n",
      "\n",
      "\n",
      "원문 : actress richa chadha speaking co star varun sharma jokingly said officially first leading man generation richa varun feature together romantic track recently released film returns film also stars ali singh priya anand \n",
      "실제 요약 : varun sharma is st jokes richa \n",
      "예측 요약 :  varun dhawan st look from varun\n",
      "\n",
      "\n",
      "원문 : china opened cinema hall island disputed south china sea saturday far american earlier month residents soldiers attended inaugural screening chinese movie several countries including philippines malaysia territorial claims south china sea \n",
      "실제 요약 : china opens on south china sea \n",
      "예측 요약 :  china to hold its st anniversary\n",
      "\n",
      "\n",
      "원문 : deepika padukone female feature twitter list ten followed indians ranked seventh million followers prime minister narendra modi topped list million followers seven top ten people list bollywood celebrities including actors like shah rukh khan aamir khan \n",
      "실제 요약 : deepika only female on twitter most indians \n",
      "예측 요약 :  deepika named most female pm highest paid list\n",
      "\n",
      "\n",
      "원문 : cold startup raw raised crore mumbai based venture debt firm capital debt equity funding recent funding round extension made raw may year founded counts sequoia capital consumer partners capital existing investors \n",
      "실제 요약 : startup raises crore \n",
      "예측 요약 :  raises crore from others\n",
      "\n",
      "\n",
      "원문 : passengers us flight saved life fellow collapsed moments takeoff nurse flight confirmed breathing following passengers crew members used onboard revive passengers reportedly hospital \n",
      "실제 요약 : man saved by passengers after he collapses on flight \n",
      "예측 요약 :  plane heart attack on flight\n",
      "\n",
      "\n",
      "원문 : bjp leader mukul roy approached delhi high court tmc accusing private phone conversations able speak anyone phone phones claimed notably roy founding member tmc left party citing lack principle reason \n",
      "실제 요약 : bjp moves hc against for phone \n",
      "예측 요약 :  bjp leader fined for phone in phone case\n",
      "\n",
      "\n",
      "원문 : bengaluru development minister george said treated sewage would released water bodies city onwards adding october year almost works completed said way save city \n",
      "실제 요약 : only to into water from luru min \n",
      "예측 요약 :  to be declared in water minister\n",
      "\n",
      "\n",
      "원문 : kanpur park administration running short meat four kanpur municipal corporation closed report stated animals put forced fast since wednesday zoo requires kg meat every day meat provided contractor zoo official reportedly said \n",
      "실제 요약 : no for at as \n",
      "예측 요약 :  park in\n",
      "\n",
      "\n",
      "원문 : italian luxury manufacturer launched android smartphone called one priced lakh phone features italian black inch display qualcomm also rear facing front facing camera along gb ram gb internal storage \n",
      "실제 요약 : launches android phone at lakh \n",
      "예측 요약 :  smart to be spent on\n",
      "\n",
      "\n",
      "원문 : two people arrested mumbai airport worth approximately lakh official said monday seized himachal pradesh brought mumbai via delhi via air drugs hidden inside checked luggage added seized meant distribution mumbai \n",
      "실제 요약 : two held with worth lakh at mumbai airport \n",
      "예측 요약 :  held for gold worth lakh in delhi\n",
      "\n",
      "\n"
     ]
    }
   ],
   "source": [
    "for i in range(50, 100):\n",
    "    print(\"원문 :\", seq2text(encoder_input_test[i]))\n",
    "    print(\"실제 요약 :\", seq2summary(decoder_input_test[i]))\n",
    "    print(\"예측 요약 :\", decode_sequence(encoder_input_test[i].reshape(1, text_max_len)))\n",
    "    print(\"\\n\")"
   ]
  },
  {
   "cell_type": "markdown",
   "id": "40594806",
   "metadata": {},
   "source": [
    "추출적 요약"
   ]
  },
  {
   "cell_type": "code",
   "execution_count": 54,
   "id": "dbca1ac9",
   "metadata": {},
   "outputs": [],
   "source": [
    "import requests\n",
    "from summa.summarizer import summarize"
   ]
  },
  {
   "cell_type": "code",
   "execution_count": 55,
   "id": "acee738f",
   "metadata": {},
   "outputs": [],
   "source": [
    "text = pd.read_csv('news_summary_more.csv', encoding='iso-8859-1')"
   ]
  },
  {
   "cell_type": "code",
   "execution_count": 56,
   "id": "5d4f998d",
   "metadata": {},
   "outputs": [
    {
     "name": "stdout",
     "output_type": "stream",
     "text": [
      "                                              headlines  \\\n",
      "0     upGrad learner switches to career in ML & Al w...   \n",
      "1     Delhi techie wins free food from Swiggy for on...   \n",
      "2     New Zealand end Rohit Sharma-led India's 12-ma...   \n",
      "3     Aegon life iTerm insurance plan helps customer...   \n",
      "4     Have known Hirani for yrs, what if MeToo claim...   \n",
      "...                                                 ...   \n",
      "1495  Have seen Sachin Tendulkar get angry but not M...   \n",
      "1496  Player ensures wife stays dry in rain during A...   \n",
      "1497  Federer denied entry into locker room by secur...   \n",
      "1498  42/42 seats in West Bengal: CM Mamata's cutout...   \n",
      "1499  Court refuses chargesheet by Delhi Police agai...   \n",
      "\n",
      "                                                   text  \n",
      "0     Saurav Kant, an alumnus of upGrad and IIIT-B's...  \n",
      "1     Kunal Shah's credit card bill payment platform...  \n",
      "2     New Zealand defeated India by 8 wickets in the...  \n",
      "3     With Aegon Life iTerm Insurance plan, customer...  \n",
      "4     Speaking about the sexual harassment allegatio...  \n",
      "...                                                 ...  \n",
      "1495  India head coach Ravi Shastri has said that he...  \n",
      "1496  Italian tennis player Andreas Seppi ensured hi...  \n",
      "1497  World number three Roger Federer was stopped b...  \n",
      "1498  A cutout of TMC chief and West Bengal CM Mamat...  \n",
      "1499  A Delhi court on Saturday pulled up Delhi Poli...  \n",
      "\n",
      "[1500 rows x 2 columns]\n"
     ]
    }
   ],
   "source": [
    "print(text[:1500])"
   ]
  },
  {
   "cell_type": "code",
   "execution_count": 72,
   "id": "30978e72",
   "metadata": {},
   "outputs": [
    {
     "name": "stdout",
     "output_type": "stream",
     "text": [
      "결과: \n",
      "\n",
      "헤드라인 : upGrad learner switches to career in ML & Al with 90% salary hike\n",
      "요약 : upGrad's Online Power Learning has powered 3 lakh+ careers.\n",
      "\n",
      "\n",
      "헤드라인 : Delhi techie wins free food from Swiggy for one year on CRED\n",
      "요약 : Users get one CRED coin per rupee of bill paid, which can be used to avail rewards from brands like Ixigo, BookMyShow, UberEats, Cult.Fit and more.\n",
      "\n",
      "\n",
      "헤드라인 : New Zealand end Rohit Sharma-led India's 12-match winning streak\n",
      "요약 : The match witnessed India getting all out for 92, their seventh lowest total in ODI cricket history.\n",
      "\n",
      "\n",
      "헤드라인 : Aegon life iTerm insurance plan helps customers save tax\n",
      "요약 : Also, customers have options to insure against Critical Illnesses, Disability and Accidental Death Benefit Rider with a life cover up to the age of 80 years.\n",
      "\n",
      "\n",
      "헤드라인 : Have known Hirani for yrs, what if MeToo claims are not true: Sonam\n",
      "요약 : Speaking about the sexual harassment allegations against Rajkumar Hirani, Sonam Kapoor said, \"I've known Hirani for many years...What if it's not true, the [#MeToo] movement will get derailed.\" \"In the #MeToo movement, I always believe a woman.\n",
      "\n",
      "\n",
      "헤드라인 : Rahat Fateh Ali Khan denies getting notice for smuggling currency\n",
      "요약 : Pakistani singer Rahat Fateh Ali Khan has denied receiving any notice from the Enforcement Directorate over allegedly smuggling foreign currency out of India.\n",
      "\n",
      "\n",
      "헤드라인 : India get all out for 92, their lowest ODI total in New Zealand\n",
      "요약 : India's previous lowest ODI total in New Zealand was 108.\n",
      "\n",
      "\n",
      "헤드라인 : Govt directs Alok Verma to join work 1 day before his retirement\n",
      "요약 : Weeks after ex-CBI Director Alok Verma told the Department of Personnel and Training to consider him retired, the Home Ministry asked him to join work on the last day of his fixed tenure as Director on Thursday.\n",
      "\n",
      "\n",
      "헤드라인 : Called PM Modi 'sir' 10 times to satisfy his ego: Andhra CM\n",
      "요약 : Andhra Pradesh CM N Chandrababu Naidu has said, \"When I met then US President Bill Clinton, I addressed him as Mr Clinton, not as 'sir'.\n",
      "\n",
      "\n",
      "헤드라인 : Cong wins Ramgarh bypoll in Rajasthan, takes total to 100 seats\n",
      "요약 : Congress candidate Shafia Zubair won the Ramgarh Assembly seat in Rajasthan, by defeating BJP's Sukhwant Singh with a margin of 12,228 votes in the bypoll.\n",
      "\n",
      "\n",
      "헤드라인 : UP cousins fed human excreta for friendship with boys\n",
      "요약 : Two minor cousins in Uttar Pradesh's Gorakhpur were allegedly repeatedly burnt with tongs and forced to eat human excreta by their family for being friends with two boys from the same school.\n",
      "\n",
      "\n",
      "헤드라인 : 81-yr-old woman conducts physical training in J'khand schools\n",
      "요약 : Isha Ghosh, an 81-year-old member of Bharat Scouts and Guides (BSG), has been imparting physical and mental training to schoolchildren in Jharkhand for several decades.\n",
      "\n",
      "\n",
      "헤드라인 : Ram, Krishna didn't smoke, why should we: Ramdev to sadhus at Kumbh\n",
      "요약 : Urging saints and seers at the Kumbh Mela to quit smoking, Yoga guru Ramdev said, \"We follow Ram and Krishna who never smoked in their life then why should we?\" Making them take a pledge to quit tobacco, he collected chillum (clay pipe) from several sadhus.\n",
      "\n",
      "\n",
      "헤드라인 : Pharma exec gave doctor a lap dance to sell medicine in US: Witness\n",
      "요약 : Former stripper and regional sales director of a pharmaceutical company, Sunrise Lee, gave a doctor a lap dance in a nightclub to persuade him to prescribe an addictive fentanyl spray in 2012, the company's sales representative told a US court.\n",
      "\n",
      "\n",
      "헤드라인 :  I only cried at my 'bidaai' as I felt peer pressure: Isha Ambani\n",
      "요약 : \"It was a very emotional affair for everyone in my family,\" said Isha.\n",
      "\n",
      "\n",
      "헤드라인 : Louis Vuitton owner to stockpile 4 months of wine, spirits in UK\n",
      "요약 : Louis Vuitton owner LVMH, which makes high-end beverages like MoÃÂ«t & Chandon champagne and Hennessy cognac, said it's stockpiling four months' worth of wine and spirits in UK in preparation for Brexit.\n",
      "\n",
      "\n",
      "헤드라인 : Karan Johar, Tabu turn showstoppers on opening night of LFW\n",
      "요약 : Filmmaker Karan Johar and actress Tabu turned showstoppers for Gaurav Gupta on the opening night of LakmÃÂ© Fashion Week Summer/ Resort 2019.\n",
      "\n",
      "\n",
      "헤드라인 : Those on bail will go to jail: PM Modi takes jibe at Rahul\n",
      "요약 : \n",
      "\n",
      "\n",
      "헤드라인 : How long can I tolerate Congress leaders' potshots: K'taka CM\n",
      "요약 : \n",
      "\n",
      "\n",
      "헤드라인 : Odisha CM Patnaik controls mining mafia: Union Minister\n",
      "요약 : Union Minister Dharmendra Pradhan on Wednesday claimed the illegal mining mafia in Odisha operates under the control of CM Naveen Patnaik and state Congress chief Niranjan Patnaik.\n",
      "\n",
      "\n",
      "헤드라인 : I think the opposition even dreams about me: PM Modi\n",
      "요약 : \n",
      "\n",
      "\n",
      "헤드라인 : ISRO unveils Bengaluru centre for manned space mission \n",
      "요약 : It'll also pursue activities for sustained human space flight missions, ISRO added.\n",
      "\n",
      "\n",
      "헤드라인 : 12 killed, 170 injured in Saudi Arabia floods\n",
      "요약 : At least 12 people have been killed and 170 others have been injured in Saudi Arabia this week due to flooding from heavy rain.\n",
      "\n",
      "\n",
      "헤드라인 : Isha Ambani features on February cover of Vogue magazine\n",
      "요약 : Reliance Industries' Chairman Mukesh Ambani's daughter Isha Ambani has featured on the cover of the February edition of Vogue India.\n",
      "\n",
      "\n",
      "헤드라인 : Indian Oil looking for annual deal to buy crude from US\n",
      "요약 : The US had in November granted a six-month waiver to India from sanctions against Iran and restricted the country's monthly intake of Iranian oil to 3,00,000 barrels per day.\n",
      "\n",
      "\n",
      "헤드라인 : Pacer once took 7 wickets for just 1 run in 32 balls in a Test\n",
      "요약 : Ambrose ended with first-innings figures of 18-9-25-7.\n",
      "\n",
      "\n",
      "헤드라인 : UK zoo offers people to name cockroach after their ex on Valentine's\n",
      "요약 : The names will appear on zoo's 'roach board' on February 14.\n",
      "\n",
      "\n",
      "헤드라인 : Rohit Sharma becomes 14th Indian cricketer to play 200 ODIs\n",
      "요약 : Rohit scored 7,799 runs in his first 199 ODIs at an average of 48.14.\n",
      "\n",
      "\n",
      "헤드라인 : 19-year-old Shubman Gill becomes India's 227th ODI cricketer\n",
      "요약 : Notably, Shubman was named Player of the Under-19 World Cup in New Zealand last year.\n",
      "\n",
      "\n",
      "헤드라인 : 2 seat cushions from 'missing plane carrying footballer' found\n",
      "요약 : Investigators searching for a lost plane carrying Argentine forward Emiliano Sala found two seat cushions on French coast that \"likely\" belonged to the aircraft.\n",
      "\n",
      "\n",
      "헤드라인 : Italian coach knocks rival down with headbutt, banned for 5 months\n",
      "요약 : Italian third division football side Lucchese's head coach Giancarlo Favarin has been banned for five months for headbutting Alessandria's assistant coach Gaetano Mancino during a brawl following the teams' 2-2 draw on Sunday.\n",
      "\n",
      "\n",
      "헤드라인 : Cyclists sleep on stadium floor instead of hotel over costly cycles\n",
      "요약 : Cyclists taking part in National Track Cycling Championship in Jaipur opted to sleep on the floor inside the stadium instead of hotels over expensive cycles.\n",
      "\n",
      "\n",
      "헤드라인 : Brazilian mother narrates football matches to blind son from stands\n",
      "요약 : Silvia Grecco, a 56-year-old Brazilian mother narrates her local football team Palmeiras' matches live to her 12-year-old blind and autistic son Nickollas from the stands.\n",
      "\n",
      "\n",
      "헤드라인 : SBI left account data of millions of users unprotected: Report\n",
      "요약 : A TechCrunch report has claimed that IndiaÃ¢ÂÂs largest bank SBI secured a passwordless server \"overnight\" on being alerted it allowed anyone to access phone numbers, bank balances, and transactions of millions of its customers.\n",
      "\n",
      "\n",
      "헤드라인 : CM Parrikar under pressure from PM after our Goa meet: Rahul\n",
      "요약 : Rahul Gandhi has replied to Goa CM Manohar Parrikar's letter, which accused the Congress President of using his \"visit to an ailing man for political gains\".\n",
      "\n",
      "\n",
      "헤드라인 : Man arrested for cheating Amazon of Ã¢ÂÂ¹30 lakh by taking refunds\n",
      "요약 : Twenty-seven-year-old Mohammed Mahuwala was arrested in Indore on Wednesday for allegedly cheating e-commerce giant Amazon of nearly Ã¢ÂÂ¹30 lakh.\n",
      "Mahuwala was a member of a gang who ordered costly gadgets from Amazon.\n",
      "\n",
      "\n",
      "헤드라인 : AgustaWestland scam accused Rajiv Saxena extradited to India\n",
      "요약 : AgustaWestland chopper scam co-accused Rajiv Saxena was extradited to India from UAE on Wednesday.\n",
      "\n",
      "\n",
      "헤드라인 : Pakistan holds 'keys to war': Afghanistan\n",
      "요약 : Afghan President Ashraf Ghani has said the \"keys to war\" are in Pakistan's Islamabad, Quetta and Rawalpindi, accusing the country of providing safe havens to militants, including those belonging to the Taliban.\n",
      "\n",
      "\n",
      "헤드라인 : Insurance agent 'Lord Voldemort' jailed for threatening clients\n",
      "요약 : A Singapore-based insurance agent has been jailed for two years and five months for threatening to harm his clients unless they paid him in bitcoins.\n",
      "\n",
      "\n",
      "헤드라인 : Woman turns Apple AirPods into earrings to avoid losing them\n",
      "요약 : \"I absolutely refuse to lose them (AirPods)...So I made earrings,\" she explained.\n",
      "\n",
      "\n",
      "헤드라인 : Shocked, hurt by ICICI's decision, truth will prevail: Kochhar\n",
      "요약 : Adding that she hasn't been given a copy of the independent probe report, Kochhar said none of ICICI's credit decisions are unilateral\n",
      "\n",
      "\n",
      "헤드라인 : Fashion brand H&M hires Facebook data scandal whistleblower\n",
      "요약 : Swedish multinational fast-fashion brand Hennes & Mauritz AB (H&M) has hired Christopher Wylie, the whistleblower who exposed Facebook's Cambridge Analytica data scandal.\n",
      "\n",
      "\n",
      "헤드라인 : Twitter testing news-first timeline feature on Android\n",
      "요약 : Micro-blogging platform Twitter is testing a new feature on Android to put news on the top of a user's timeline.\n",
      "\n",
      "\n",
      "헤드라인 : Samsung builds world's first 1TB storage chip for smartphones \n",
      "요약 : Samsung has started mass producing its one terabyte 'embedded Universal Flash Storage (eUFS) 2.1' technology for \"use in next-generation mobile applications\", which it claims is the industry's first such eUFS.\n",
      "\n",
      "\n",
      "헤드라인 : People with 'negative mindset' quizzing pro-poor schemes: PM\n",
      "요약 : Prime Minister Narendra Modi on Wednesday said the people with 'negative mindset' are questioning him and his government for floating pro-poor schemes.\n",
      "\n",
      "\n",
      "헤드라인 : Rahul is hybrid specimen, has no clue about religion: Hegde\n",
      "요약 : Union Minister Anantkumar Hegde took a dig at Congress President Rahul Gandhi by calling him a \"hybrid specimen\" who has no clue about religion.\n",
      "He added such \"hybrid specimen\" cannot be found in any laboratory in the world.\n",
      "\n",
      "\n",
      "헤드라인 : Extreme cold to affect 200 million people as polar vortex hits US\n",
      "요약 : Several parts of the US are set to experience record low temperatures as the polar vortex hit the Upper Midwest, with more than 200 million people expected to experience below-freezing temperatures this week.\n",
      "\n",
      "\n",
      "헤드라인 : 13 booked for firing air shots at Mahatma Gandhi's effigy\n",
      "요약 : The police on Wednesday registered cases against 13 persons, including a woman leader of Hindu Mahasabha, in Aligarh for firing at an effigy of Mahatma Gandhi with an air pistol.\n",
      "\n",
      "\n",
      "헤드라인 : Railway police rescues woman with leg stuck in train toilet\n",
      "요약 : Railway police has rescued a woman travelling on a train in Chennai who got her leg stuck inside the commode of a toilet.\n",
      "\n",
      "\n",
      "헤드라인 : US begins sending back asylum seekers to Mexico\n",
      "요약 : The US on Tuesday began returning asylum seekers to Mexico, sending back a migrant from a Central American nation and called the move a \"response to the illegal migration crisis\" faced by it.\n",
      "\n",
      "\n"
     ]
    }
   ],
   "source": [
    "print('결과:', \"\\n\")\n",
    "for i in range(50):\n",
    "    print(\"헤드라인 :\", text['headlines'][i])\n",
    "    print(\"요약 :\", summarize(text['text'][i], ratio=0.5)) # ratio가 더 높아지면 너무 길어지고, 0.34 밑으로 내려가면 요약이 안 나옴.\n",
    "    print(\"\\n\")"
   ]
  },
  {
   "cell_type": "markdown",
   "id": "d2228b86",
   "metadata": {},
   "source": [
    "회고\n",
    "\n",
    "* 아이펠 졸업생 안형준님의 도움을 받았으나 대부분 소화하지 못하고 노드를 따라가는 꼴이 되어서 아쉬움이 남는다.\n",
    "* 자료의 열 순서를 바꿔주는게 좋을 듯.\n",
    "* 요약의 성능이 많이 조악하다. 개선방법을 찾기가 힘든 것이 아쉽다."
   ]
  }
 ],
 "metadata": {
  "kernelspec": {
   "display_name": "Python 3 (ipykernel)",
   "language": "python",
   "name": "python3"
  },
  "language_info": {
   "codemirror_mode": {
    "name": "ipython",
    "version": 3
   },
   "file_extension": ".py",
   "mimetype": "text/x-python",
   "name": "python",
   "nbconvert_exporter": "python",
   "pygments_lexer": "ipython3",
   "version": "3.9.7"
  }
 },
 "nbformat": 4,
 "nbformat_minor": 5
}
