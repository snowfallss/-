{
 "cells": [
  {
   "cell_type": "markdown",
   "id": "ac1d3e92",
   "metadata": {},
   "source": [
    "## 1. 데이터 준비와 전처리"
   ]
  },
  {
   "cell_type": "code",
   "execution_count": 1,
   "id": "3a1dac47",
   "metadata": {},
   "outputs": [
    {
     "data": {
      "text/html": [
       "<div>\n",
       "<style scoped>\n",
       "    .dataframe tbody tr th:only-of-type {\n",
       "        vertical-align: middle;\n",
       "    }\n",
       "\n",
       "    .dataframe tbody tr th {\n",
       "        vertical-align: top;\n",
       "    }\n",
       "\n",
       "    .dataframe thead th {\n",
       "        text-align: right;\n",
       "    }\n",
       "</style>\n",
       "<table border=\"1\" class=\"dataframe\">\n",
       "  <thead>\n",
       "    <tr style=\"text-align: right;\">\n",
       "      <th></th>\n",
       "      <th>user_id</th>\n",
       "      <th>movie_id</th>\n",
       "      <th>ratings</th>\n",
       "      <th>timestamp</th>\n",
       "    </tr>\n",
       "  </thead>\n",
       "  <tbody>\n",
       "    <tr>\n",
       "      <th>0</th>\n",
       "      <td>1</td>\n",
       "      <td>1193</td>\n",
       "      <td>5</td>\n",
       "      <td>978300760</td>\n",
       "    </tr>\n",
       "    <tr>\n",
       "      <th>1</th>\n",
       "      <td>1</td>\n",
       "      <td>661</td>\n",
       "      <td>3</td>\n",
       "      <td>978302109</td>\n",
       "    </tr>\n",
       "    <tr>\n",
       "      <th>2</th>\n",
       "      <td>1</td>\n",
       "      <td>914</td>\n",
       "      <td>3</td>\n",
       "      <td>978301968</td>\n",
       "    </tr>\n",
       "    <tr>\n",
       "      <th>3</th>\n",
       "      <td>1</td>\n",
       "      <td>3408</td>\n",
       "      <td>4</td>\n",
       "      <td>978300275</td>\n",
       "    </tr>\n",
       "    <tr>\n",
       "      <th>4</th>\n",
       "      <td>1</td>\n",
       "      <td>2355</td>\n",
       "      <td>5</td>\n",
       "      <td>978824291</td>\n",
       "    </tr>\n",
       "  </tbody>\n",
       "</table>\n",
       "</div>"
      ],
      "text/plain": [
       "   user_id  movie_id  ratings  timestamp\n",
       "0        1      1193        5  978300760\n",
       "1        1       661        3  978302109\n",
       "2        1       914        3  978301968\n",
       "3        1      3408        4  978300275\n",
       "4        1      2355        5  978824291"
      ]
     },
     "execution_count": 1,
     "metadata": {},
     "output_type": "execute_result"
    }
   ],
   "source": [
    "import os\n",
    "import pandas as pd\n",
    "\n",
    "rating_file_path=os.getenv('HOME') + '/aiffel/recommendata_iu/data/ml-1m/ratings.dat'\n",
    "ratings_cols = ['user_id', 'movie_id', 'ratings', 'timestamp']\n",
    "ratings = pd.read_csv(rating_file_path, sep='::', names=ratings_cols, engine='python', encoding = \"ISO-8859-1\")\n",
    "orginal_data_size = len(ratings)\n",
    "ratings.head()"
   ]
  },
  {
   "cell_type": "code",
   "execution_count": 2,
   "id": "c02a028e",
   "metadata": {},
   "outputs": [
    {
     "name": "stdout",
     "output_type": "stream",
     "text": [
      "orginal_data_size: 1000209, filtered_data_size: 836478\n",
      "Ratio of Remaining Data is 83.63%\n"
     ]
    }
   ],
   "source": [
    "# 3점 이상만 남깁니다.\n",
    "ratings = ratings[ratings['ratings']>=3]\n",
    "filtered_data_size = len(ratings)\n",
    "\n",
    "print(f'orginal_data_size: {orginal_data_size}, filtered_data_size: {filtered_data_size}')\n",
    "print(f'Ratio of Remaining Data is {filtered_data_size / orginal_data_size:.2%}')"
   ]
  },
  {
   "cell_type": "code",
   "execution_count": 3,
   "id": "884b765e",
   "metadata": {},
   "outputs": [],
   "source": [
    "# ratings 컬럼의 이름을 counts로 바꿉니다.\n",
    "ratings.rename(columns={'ratings':'count'}, inplace=True)"
   ]
  },
  {
   "cell_type": "code",
   "execution_count": 4,
   "id": "68c9b1fb",
   "metadata": {},
   "outputs": [
    {
     "data": {
      "text/plain": [
       "0          5\n",
       "1          3\n",
       "2          3\n",
       "3          4\n",
       "4          5\n",
       "          ..\n",
       "1000203    3\n",
       "1000205    5\n",
       "1000206    5\n",
       "1000207    4\n",
       "1000208    4\n",
       "Name: count, Length: 836478, dtype: int64"
      ]
     },
     "execution_count": 4,
     "metadata": {},
     "output_type": "execute_result"
    }
   ],
   "source": [
    "ratings['count']"
   ]
  },
  {
   "cell_type": "code",
   "execution_count": 5,
   "id": "32b9ecce",
   "metadata": {},
   "outputs": [
    {
     "data": {
      "text/html": [
       "<div>\n",
       "<style scoped>\n",
       "    .dataframe tbody tr th:only-of-type {\n",
       "        vertical-align: middle;\n",
       "    }\n",
       "\n",
       "    .dataframe tbody tr th {\n",
       "        vertical-align: top;\n",
       "    }\n",
       "\n",
       "    .dataframe thead th {\n",
       "        text-align: right;\n",
       "    }\n",
       "</style>\n",
       "<table border=\"1\" class=\"dataframe\">\n",
       "  <thead>\n",
       "    <tr style=\"text-align: right;\">\n",
       "      <th></th>\n",
       "      <th>movie_id</th>\n",
       "      <th>title</th>\n",
       "      <th>genre</th>\n",
       "    </tr>\n",
       "  </thead>\n",
       "  <tbody>\n",
       "    <tr>\n",
       "      <th>0</th>\n",
       "      <td>1</td>\n",
       "      <td>Toy Story (1995)</td>\n",
       "      <td>Animation|Children's|Comedy</td>\n",
       "    </tr>\n",
       "    <tr>\n",
       "      <th>1</th>\n",
       "      <td>2</td>\n",
       "      <td>Jumanji (1995)</td>\n",
       "      <td>Adventure|Children's|Fantasy</td>\n",
       "    </tr>\n",
       "    <tr>\n",
       "      <th>2</th>\n",
       "      <td>3</td>\n",
       "      <td>Grumpier Old Men (1995)</td>\n",
       "      <td>Comedy|Romance</td>\n",
       "    </tr>\n",
       "    <tr>\n",
       "      <th>3</th>\n",
       "      <td>4</td>\n",
       "      <td>Waiting to Exhale (1995)</td>\n",
       "      <td>Comedy|Drama</td>\n",
       "    </tr>\n",
       "    <tr>\n",
       "      <th>4</th>\n",
       "      <td>5</td>\n",
       "      <td>Father of the Bride Part II (1995)</td>\n",
       "      <td>Comedy</td>\n",
       "    </tr>\n",
       "  </tbody>\n",
       "</table>\n",
       "</div>"
      ],
      "text/plain": [
       "   movie_id                               title                         genre\n",
       "0         1                    Toy Story (1995)   Animation|Children's|Comedy\n",
       "1         2                      Jumanji (1995)  Adventure|Children's|Fantasy\n",
       "2         3             Grumpier Old Men (1995)                Comedy|Romance\n",
       "3         4            Waiting to Exhale (1995)                  Comedy|Drama\n",
       "4         5  Father of the Bride Part II (1995)                        Comedy"
      ]
     },
     "execution_count": 5,
     "metadata": {},
     "output_type": "execute_result"
    }
   ],
   "source": [
    "# 영화 제목을 보기 위해 메타 데이터를 읽어옵니다.\n",
    "movie_file_path=os.getenv('HOME') + '/aiffel/recommendata_iu/data/ml-1m/movies.dat'\n",
    "cols = ['movie_id', 'title', 'genre'] \n",
    "movies = pd.read_csv(movie_file_path, sep='::', names=cols, engine='python', encoding='ISO-8859-1')\n",
    "movies.head()"
   ]
  },
  {
   "cell_type": "code",
   "execution_count": 6,
   "id": "bc82b66e",
   "metadata": {},
   "outputs": [
    {
     "name": "stdout",
     "output_type": "stream",
     "text": [
      "                                       title                         genre\n",
      "movie_id                                                                  \n",
      "1                           Toy Story (1995)   Animation|Children's|Comedy\n",
      "2                             Jumanji (1995)  Adventure|Children's|Fantasy\n",
      "3                    Grumpier Old Men (1995)                Comedy|Romance\n",
      "4                   Waiting to Exhale (1995)                  Comedy|Drama\n",
      "5         Father of the Bride Part II (1995)                        Comedy\n",
      "...                                      ...                           ...\n",
      "3948                 Meet the Parents (2000)                        Comedy\n",
      "3949              Requiem for a Dream (2000)                         Drama\n",
      "3950                        Tigerland (2000)                         Drama\n",
      "3951                 Two Family House (2000)                         Drama\n",
      "3952                   Contender, The (2000)                Drama|Thriller\n",
      "\n",
      "[3883 rows x 2 columns]\n"
     ]
    }
   ],
   "source": [
    "movies = movies.set_index('movie_id')\n",
    "print(movies)"
   ]
  },
  {
   "cell_type": "code",
   "execution_count": 7,
   "id": "074746a0",
   "metadata": {},
   "outputs": [
    {
     "data": {
      "text/html": [
       "<div>\n",
       "<style scoped>\n",
       "    .dataframe tbody tr th:only-of-type {\n",
       "        vertical-align: middle;\n",
       "    }\n",
       "\n",
       "    .dataframe tbody tr th {\n",
       "        vertical-align: top;\n",
       "    }\n",
       "\n",
       "    .dataframe thead th {\n",
       "        text-align: right;\n",
       "    }\n",
       "</style>\n",
       "<table border=\"1\" class=\"dataframe\">\n",
       "  <thead>\n",
       "    <tr style=\"text-align: right;\">\n",
       "      <th></th>\n",
       "      <th>user_id</th>\n",
       "      <th>movie_id</th>\n",
       "      <th>count</th>\n",
       "      <th>timestamp</th>\n",
       "      <th>title</th>\n",
       "      <th>genre</th>\n",
       "    </tr>\n",
       "  </thead>\n",
       "  <tbody>\n",
       "    <tr>\n",
       "      <th>0</th>\n",
       "      <td>1</td>\n",
       "      <td>1193</td>\n",
       "      <td>5</td>\n",
       "      <td>978300760</td>\n",
       "      <td>One Flew Over the Cuckoo's Nest (1975)</td>\n",
       "      <td>Drama</td>\n",
       "    </tr>\n",
       "    <tr>\n",
       "      <th>1</th>\n",
       "      <td>1</td>\n",
       "      <td>661</td>\n",
       "      <td>3</td>\n",
       "      <td>978302109</td>\n",
       "      <td>James and the Giant Peach (1996)</td>\n",
       "      <td>Animation|Children's|Musical</td>\n",
       "    </tr>\n",
       "    <tr>\n",
       "      <th>2</th>\n",
       "      <td>1</td>\n",
       "      <td>914</td>\n",
       "      <td>3</td>\n",
       "      <td>978301968</td>\n",
       "      <td>My Fair Lady (1964)</td>\n",
       "      <td>Musical|Romance</td>\n",
       "    </tr>\n",
       "    <tr>\n",
       "      <th>3</th>\n",
       "      <td>1</td>\n",
       "      <td>3408</td>\n",
       "      <td>4</td>\n",
       "      <td>978300275</td>\n",
       "      <td>Erin Brockovich (2000)</td>\n",
       "      <td>Drama</td>\n",
       "    </tr>\n",
       "    <tr>\n",
       "      <th>4</th>\n",
       "      <td>1</td>\n",
       "      <td>2355</td>\n",
       "      <td>5</td>\n",
       "      <td>978824291</td>\n",
       "      <td>Bug's Life, A (1998)</td>\n",
       "      <td>Animation|Children's|Comedy</td>\n",
       "    </tr>\n",
       "  </tbody>\n",
       "</table>\n",
       "</div>"
      ],
      "text/plain": [
       "   user_id  movie_id  count  timestamp  \\\n",
       "0        1      1193      5  978300760   \n",
       "1        1       661      3  978302109   \n",
       "2        1       914      3  978301968   \n",
       "3        1      3408      4  978300275   \n",
       "4        1      2355      5  978824291   \n",
       "\n",
       "                                    title                         genre  \n",
       "0  One Flew Over the Cuckoo's Nest (1975)                         Drama  \n",
       "1        James and the Giant Peach (1996)  Animation|Children's|Musical  \n",
       "2                     My Fair Lady (1964)               Musical|Romance  \n",
       "3                  Erin Brockovich (2000)                         Drama  \n",
       "4                    Bug's Life, A (1998)   Animation|Children's|Comedy  "
      ]
     },
     "execution_count": 7,
     "metadata": {},
     "output_type": "execute_result"
    }
   ],
   "source": [
    "ratings = ratings.join(movies, on='movie_id')\n",
    "ratings.head()"
   ]
  },
  {
   "cell_type": "code",
   "execution_count": 8,
   "id": "d0dfc964",
   "metadata": {},
   "outputs": [],
   "source": [
    "# 관사가 모두 뒤로 빠져있어 헷갈리므로 제거\n",
    "ratings['title'] = ratings['title'].str.replace(', The','')\n",
    "ratings['title'] = ratings['title'].str.replace(', A','')"
   ]
  },
  {
   "cell_type": "markdown",
   "id": "fb776a69",
   "metadata": {},
   "source": [
    "## 2. 데이터 분석"
   ]
  },
  {
   "cell_type": "code",
   "execution_count": 9,
   "id": "f3058aac",
   "metadata": {},
   "outputs": [
    {
     "data": {
      "text/plain": [
       "3628"
      ]
     },
     "execution_count": 9,
     "metadata": {},
     "output_type": "execute_result"
    }
   ],
   "source": [
    "ratings['movie_id'].nunique() # ratings에 있는 유니크한 영화 개수"
   ]
  },
  {
   "cell_type": "code",
   "execution_count": 10,
   "id": "32a1051a",
   "metadata": {},
   "outputs": [
    {
     "data": {
      "text/plain": [
       "6039"
      ]
     },
     "execution_count": 10,
     "metadata": {},
     "output_type": "execute_result"
    }
   ],
   "source": [
    "ratings['user_id'].nunique() # ratings에 있는 유니크한 사용자 수"
   ]
  },
  {
   "cell_type": "code",
   "execution_count": 16,
   "id": "6a950c38",
   "metadata": {},
   "outputs": [
    {
     "data": {
      "text/plain": [
       "title\n",
       "American Beauty (1999)                                   3211\n",
       "Star Wars: Episode IV - A New Hope (1977)                2910\n",
       "Star Wars: Episode V - The Empire Strikes Back (1980)    2885\n",
       "Star Wars: Episode VI - Return of the Jedi (1983)        2716\n",
       "Saving Private Ryan (1998)                               2561\n",
       "Terminator 2: Judgment Day (1991)                        2509\n",
       "Silence of the Lambs (1991)                              2498\n",
       "Raiders of the Lost Ark (1981)                           2473\n",
       "Back to the Future (1985)                                2460\n",
       "Matrix (1999)                                            2434\n",
       "Jurassic Park (1993)                                     2413\n",
       "Sixth Sense (1999)                                       2385\n",
       "Fargo (1996)                                             2371\n",
       "Braveheart (1995)                                        2314\n",
       "Men in Black (1997)                                      2297\n",
       "Schindler's List (1993)                                  2257\n",
       "Princess Bride (1987)                                    2252\n",
       "Shakespeare in Love (1998)                               2213\n",
       "L.A. Confidential (1997)                                 2210\n",
       "Shawshank Redemption (1994)                              2194\n",
       "Godfather (1972)                                         2167\n",
       "Groundhog Day (1993)                                     2121\n",
       "E.T. the Extra-Terrestrial (1982)                        2102\n",
       "Being John Malkovich (1999)                              2066\n",
       "Ghostbusters (1984)                                      2051\n",
       "Pulp Fiction (1994)                                      2030\n",
       "Forrest Gump (1994)                                      2022\n",
       "Terminator (1984)                                        2019\n",
       "Toy Story (1995)                                         2000\n",
       "Fugitive (1993)                                          1941\n",
       "Name: movie_id, dtype: int64"
      ]
     },
     "execution_count": 16,
     "metadata": {},
     "output_type": "execute_result"
    }
   ],
   "source": [
    "# 가장 인기 있는 영화 30개(인기순)\n",
    "movie_count = ratings.groupby('title')['movie_id'].count()\n",
    "movie_count.sort_values(ascending=False).head(30)"
   ]
  },
  {
   "cell_type": "code",
   "execution_count": 17,
   "id": "56c8ecf6",
   "metadata": {},
   "outputs": [
    {
     "data": {
      "text/html": [
       "<div>\n",
       "<style scoped>\n",
       "    .dataframe tbody tr th:only-of-type {\n",
       "        vertical-align: middle;\n",
       "    }\n",
       "\n",
       "    .dataframe tbody tr th {\n",
       "        vertical-align: top;\n",
       "    }\n",
       "\n",
       "    .dataframe thead th {\n",
       "        text-align: right;\n",
       "    }\n",
       "</style>\n",
       "<table border=\"1\" class=\"dataframe\">\n",
       "  <thead>\n",
       "    <tr style=\"text-align: right;\">\n",
       "      <th></th>\n",
       "      <th>user_id</th>\n",
       "      <th>movie_id</th>\n",
       "      <th>count</th>\n",
       "      <th>timestamp</th>\n",
       "      <th>title</th>\n",
       "      <th>genre</th>\n",
       "    </tr>\n",
       "  </thead>\n",
       "  <tbody>\n",
       "    <tr>\n",
       "      <th>1000203</th>\n",
       "      <td>6040</td>\n",
       "      <td>1090.0</td>\n",
       "      <td>3</td>\n",
       "      <td>956715518.0</td>\n",
       "      <td>Platoon (1986)</td>\n",
       "      <td>Drama|War</td>\n",
       "    </tr>\n",
       "    <tr>\n",
       "      <th>1000205</th>\n",
       "      <td>6040</td>\n",
       "      <td>1094.0</td>\n",
       "      <td>5</td>\n",
       "      <td>956704887.0</td>\n",
       "      <td>Crying Game (1992)</td>\n",
       "      <td>Drama|Romance|War</td>\n",
       "    </tr>\n",
       "    <tr>\n",
       "      <th>1000206</th>\n",
       "      <td>6040</td>\n",
       "      <td>562.0</td>\n",
       "      <td>5</td>\n",
       "      <td>956704746.0</td>\n",
       "      <td>Welcome to the Dollhouse (1995)</td>\n",
       "      <td>Comedy|Drama</td>\n",
       "    </tr>\n",
       "    <tr>\n",
       "      <th>1000207</th>\n",
       "      <td>6040</td>\n",
       "      <td>1096.0</td>\n",
       "      <td>4</td>\n",
       "      <td>956715648.0</td>\n",
       "      <td>Sophie's Choice (1982)</td>\n",
       "      <td>Drama</td>\n",
       "    </tr>\n",
       "    <tr>\n",
       "      <th>1000208</th>\n",
       "      <td>6040</td>\n",
       "      <td>1097.0</td>\n",
       "      <td>4</td>\n",
       "      <td>956715569.0</td>\n",
       "      <td>E.T. the Extra-Terrestrial (1982)</td>\n",
       "      <td>Children's|Drama|Fantasy|Sci-Fi</td>\n",
       "    </tr>\n",
       "    <tr>\n",
       "      <th>0</th>\n",
       "      <td>ws</td>\n",
       "      <td>NaN</td>\n",
       "      <td>5</td>\n",
       "      <td>NaN</td>\n",
       "      <td>Matrix (1999)</td>\n",
       "      <td>NaN</td>\n",
       "    </tr>\n",
       "    <tr>\n",
       "      <th>1</th>\n",
       "      <td>ws</td>\n",
       "      <td>NaN</td>\n",
       "      <td>5</td>\n",
       "      <td>NaN</td>\n",
       "      <td>Gladiator (2000)</td>\n",
       "      <td>NaN</td>\n",
       "    </tr>\n",
       "    <tr>\n",
       "      <th>2</th>\n",
       "      <td>ws</td>\n",
       "      <td>NaN</td>\n",
       "      <td>5</td>\n",
       "      <td>NaN</td>\n",
       "      <td>Toy Story (1995)</td>\n",
       "      <td>NaN</td>\n",
       "    </tr>\n",
       "    <tr>\n",
       "      <th>3</th>\n",
       "      <td>ws</td>\n",
       "      <td>NaN</td>\n",
       "      <td>5</td>\n",
       "      <td>NaN</td>\n",
       "      <td>Usual Suspects (1995)</td>\n",
       "      <td>NaN</td>\n",
       "    </tr>\n",
       "    <tr>\n",
       "      <th>4</th>\n",
       "      <td>ws</td>\n",
       "      <td>NaN</td>\n",
       "      <td>5</td>\n",
       "      <td>NaN</td>\n",
       "      <td>Braveheart (1995)</td>\n",
       "      <td>NaN</td>\n",
       "    </tr>\n",
       "  </tbody>\n",
       "</table>\n",
       "</div>"
      ],
      "text/plain": [
       "        user_id  movie_id  count    timestamp  \\\n",
       "1000203    6040    1090.0      3  956715518.0   \n",
       "1000205    6040    1094.0      5  956704887.0   \n",
       "1000206    6040     562.0      5  956704746.0   \n",
       "1000207    6040    1096.0      4  956715648.0   \n",
       "1000208    6040    1097.0      4  956715569.0   \n",
       "0            ws       NaN      5          NaN   \n",
       "1            ws       NaN      5          NaN   \n",
       "2            ws       NaN      5          NaN   \n",
       "3            ws       NaN      5          NaN   \n",
       "4            ws       NaN      5          NaN   \n",
       "\n",
       "                                     title                            genre  \n",
       "1000203                     Platoon (1986)                        Drama|War  \n",
       "1000205                 Crying Game (1992)                Drama|Romance|War  \n",
       "1000206    Welcome to the Dollhouse (1995)                     Comedy|Drama  \n",
       "1000207             Sophie's Choice (1982)                            Drama  \n",
       "1000208  E.T. the Extra-Terrestrial (1982)  Children's|Drama|Fantasy|Sci-Fi  \n",
       "0                            Matrix (1999)                              NaN  \n",
       "1                         Gladiator (2000)                              NaN  \n",
       "2                         Toy Story (1995)                              NaN  \n",
       "3                    Usual Suspects (1995)                              NaN  \n",
       "4                        Braveheart (1995)                              NaN  "
      ]
     },
     "execution_count": 17,
     "metadata": {},
     "output_type": "execute_result"
    }
   ],
   "source": [
    "my_favorite = ['Matrix (1999)' , 'Gladiator (2000)' ,'Toy Story (1995)' ,'Usual Suspects (1995)' ,'Braveheart (1995)']\n",
    "\n",
    "my_movielist = pd.DataFrame({'user_id': ['ws']*5, 'title': my_favorite, 'count': [5]*5})\n",
    "\n",
    "if not ratings.isin({'user_id':['ws']})['user_id'].any():  \n",
    "    ratings = ratings.append(my_movielist)                         \n",
    "\n",
    "ratings.tail(10)      "
   ]
  },
  {
   "cell_type": "markdown",
   "id": "c597a2ee",
   "metadata": {},
   "source": [
    "## 4. CSR matrix"
   ]
  },
  {
   "cell_type": "markdown",
   "id": "6d20fdde",
   "metadata": {},
   "source": [
    "* indexing"
   ]
  },
  {
   "cell_type": "code",
   "execution_count": 18,
   "id": "1879943b",
   "metadata": {},
   "outputs": [
    {
     "name": "stdout",
     "output_type": "stream",
     "text": [
      "6039\n",
      "124\n"
     ]
    }
   ],
   "source": [
    "# 고유한 유저, 영화를 찾아내는 코드\n",
    "user_unique = ratings['user_id'].unique()\n",
    "movie_unique = ratings['title'].unique()\n",
    "\n",
    "# 유저, 영화 indexing 하는 코드 idx는 index의 약자입니다.\n",
    "user_to_idx = {v:k for k,v in enumerate(user_unique)}\n",
    "movie_to_idx = {v:k for k,v in enumerate(movie_unique)}\n",
    "\n",
    "# 인덱싱이 잘 되었는지 확인해 봅니다. \n",
    "print(user_to_idx['ws'])   # 6040명의 유저 중 마지막으로 추가된 유저이니 6039이 나와야 합니다.  \n",
    "print(movie_to_idx['Matrix (1999)'])"
   ]
  },
  {
   "cell_type": "code",
   "execution_count": 19,
   "id": "b083212f",
   "metadata": {},
   "outputs": [
    {
     "name": "stdout",
     "output_type": "stream",
     "text": [
      "user_id column indexing OK!!\n",
      "movie column indexing OK!!\n"
     ]
    },
    {
     "data": {
      "text/html": [
       "<div>\n",
       "<style scoped>\n",
       "    .dataframe tbody tr th:only-of-type {\n",
       "        vertical-align: middle;\n",
       "    }\n",
       "\n",
       "    .dataframe tbody tr th {\n",
       "        vertical-align: top;\n",
       "    }\n",
       "\n",
       "    .dataframe thead th {\n",
       "        text-align: right;\n",
       "    }\n",
       "</style>\n",
       "<table border=\"1\" class=\"dataframe\">\n",
       "  <thead>\n",
       "    <tr style=\"text-align: right;\">\n",
       "      <th></th>\n",
       "      <th>user_id</th>\n",
       "      <th>movie_id</th>\n",
       "      <th>count</th>\n",
       "      <th>timestamp</th>\n",
       "      <th>title</th>\n",
       "      <th>genre</th>\n",
       "    </tr>\n",
       "  </thead>\n",
       "  <tbody>\n",
       "    <tr>\n",
       "      <th>0</th>\n",
       "      <td>0</td>\n",
       "      <td>1193.0</td>\n",
       "      <td>5</td>\n",
       "      <td>978300760.0</td>\n",
       "      <td>0</td>\n",
       "      <td>Drama</td>\n",
       "    </tr>\n",
       "    <tr>\n",
       "      <th>1</th>\n",
       "      <td>0</td>\n",
       "      <td>661.0</td>\n",
       "      <td>3</td>\n",
       "      <td>978302109.0</td>\n",
       "      <td>1</td>\n",
       "      <td>Animation|Children's|Musical</td>\n",
       "    </tr>\n",
       "    <tr>\n",
       "      <th>2</th>\n",
       "      <td>0</td>\n",
       "      <td>914.0</td>\n",
       "      <td>3</td>\n",
       "      <td>978301968.0</td>\n",
       "      <td>2</td>\n",
       "      <td>Musical|Romance</td>\n",
       "    </tr>\n",
       "    <tr>\n",
       "      <th>3</th>\n",
       "      <td>0</td>\n",
       "      <td>3408.0</td>\n",
       "      <td>4</td>\n",
       "      <td>978300275.0</td>\n",
       "      <td>3</td>\n",
       "      <td>Drama</td>\n",
       "    </tr>\n",
       "    <tr>\n",
       "      <th>4</th>\n",
       "      <td>0</td>\n",
       "      <td>2355.0</td>\n",
       "      <td>5</td>\n",
       "      <td>978824291.0</td>\n",
       "      <td>4</td>\n",
       "      <td>Animation|Children's|Comedy</td>\n",
       "    </tr>\n",
       "    <tr>\n",
       "      <th>...</th>\n",
       "      <td>...</td>\n",
       "      <td>...</td>\n",
       "      <td>...</td>\n",
       "      <td>...</td>\n",
       "      <td>...</td>\n",
       "      <td>...</td>\n",
       "    </tr>\n",
       "    <tr>\n",
       "      <th>0</th>\n",
       "      <td>6039</td>\n",
       "      <td>NaN</td>\n",
       "      <td>5</td>\n",
       "      <td>NaN</td>\n",
       "      <td>124</td>\n",
       "      <td>NaN</td>\n",
       "    </tr>\n",
       "    <tr>\n",
       "      <th>1</th>\n",
       "      <td>6039</td>\n",
       "      <td>NaN</td>\n",
       "      <td>5</td>\n",
       "      <td>NaN</td>\n",
       "      <td>67</td>\n",
       "      <td>NaN</td>\n",
       "    </tr>\n",
       "    <tr>\n",
       "      <th>2</th>\n",
       "      <td>6039</td>\n",
       "      <td>NaN</td>\n",
       "      <td>5</td>\n",
       "      <td>NaN</td>\n",
       "      <td>40</td>\n",
       "      <td>NaN</td>\n",
       "    </tr>\n",
       "    <tr>\n",
       "      <th>3</th>\n",
       "      <td>6039</td>\n",
       "      <td>NaN</td>\n",
       "      <td>5</td>\n",
       "      <td>NaN</td>\n",
       "      <td>233</td>\n",
       "      <td>NaN</td>\n",
       "    </tr>\n",
       "    <tr>\n",
       "      <th>4</th>\n",
       "      <td>6039</td>\n",
       "      <td>NaN</td>\n",
       "      <td>5</td>\n",
       "      <td>NaN</td>\n",
       "      <td>87</td>\n",
       "      <td>NaN</td>\n",
       "    </tr>\n",
       "  </tbody>\n",
       "</table>\n",
       "<p>836483 rows × 6 columns</p>\n",
       "</div>"
      ],
      "text/plain": [
       "    user_id  movie_id  count    timestamp  title                         genre\n",
       "0         0    1193.0      5  978300760.0      0                         Drama\n",
       "1         0     661.0      3  978302109.0      1  Animation|Children's|Musical\n",
       "2         0     914.0      3  978301968.0      2               Musical|Romance\n",
       "3         0    3408.0      4  978300275.0      3                         Drama\n",
       "4         0    2355.0      5  978824291.0      4   Animation|Children's|Comedy\n",
       "..      ...       ...    ...          ...    ...                           ...\n",
       "0      6039       NaN      5          NaN    124                           NaN\n",
       "1      6039       NaN      5          NaN     67                           NaN\n",
       "2      6039       NaN      5          NaN     40                           NaN\n",
       "3      6039       NaN      5          NaN    233                           NaN\n",
       "4      6039       NaN      5          NaN     87                           NaN\n",
       "\n",
       "[836483 rows x 6 columns]"
      ]
     },
     "execution_count": 19,
     "metadata": {},
     "output_type": "execute_result"
    }
   ],
   "source": [
    "# indexing을 통해 데이터 컬럼 내 값을 바꾸는 코드\n",
    "# dictionary 자료형의 get 함수는 https://wikidocs.net/16 을 참고하세요.\n",
    "\n",
    "# user_to_idx.get을 통해 user_id 컬럼의 모든 값을 인덱싱한 Series를 구해 봅시다. \n",
    "# 혹시 정상적으로 인덱싱되지 않은 row가 있다면 인덱스가 NaN이 될 테니 dropna()로 제거합니다. \n",
    "temp_user_data = ratings['user_id'].map(user_to_idx.get).dropna()\n",
    "if len(temp_user_data) == len(ratings): # 모든 row가 정상적으로 인덱싱되었다면\n",
    "    print('user_id column indexing OK!!')\n",
    "    ratings['user_id'] = temp_user_data # ratings['user_id']을 인덱싱된 Series로 교체해 줍니다. \n",
    "else:\n",
    "    print('user_id column indexing Fail!!')\n",
    "\n",
    "# movie_to_idx을 통해 movie 컬럼도 동일한 방식으로 인덱싱해 줍니다. \n",
    "temp_movie_data = ratings['title'].map(movie_to_idx.get).dropna()\n",
    "if len(temp_movie_data) == len(ratings):\n",
    "    print('movie column indexing OK!!')\n",
    "    ratings['title'] = temp_movie_data\n",
    "else:\n",
    "    print('movie column indexing Fail!!')\n",
    "\n",
    "ratings"
   ]
  },
  {
   "cell_type": "markdown",
   "id": "902ee203",
   "metadata": {},
   "source": [
    "* CSR matrix 만들기"
   ]
  },
  {
   "cell_type": "code",
   "execution_count": 20,
   "id": "bc95e1fe",
   "metadata": {},
   "outputs": [
    {
     "data": {
      "text/plain": [
       "<6040x3628 sparse matrix of type '<class 'numpy.int64'>'\n",
       "\twith 836483 stored elements in Compressed Sparse Row format>"
      ]
     },
     "execution_count": 20,
     "metadata": {},
     "output_type": "execute_result"
    }
   ],
   "source": [
    "from scipy.sparse import csr_matrix\n",
    "\n",
    "num_user = ratings['user_id'].nunique()\n",
    "num_movie = ratings['title'].nunique()\n",
    "\n",
    "csr_data = csr_matrix((ratings['count'], (ratings.user_id, ratings.title)), shape= (num_user, num_movie))\n",
    "csr_data"
   ]
  },
  {
   "cell_type": "markdown",
   "id": "ce1e33f3",
   "metadata": {},
   "source": [
    "## 5. als_model = AlternatingLeastSquares 모델 훈련"
   ]
  },
  {
   "cell_type": "code",
   "execution_count": 21,
   "id": "5e8593d3",
   "metadata": {},
   "outputs": [],
   "source": [
    "from implicit.als import AlternatingLeastSquares\n",
    "import numpy as np\n",
    "\n",
    "# implicit 라이브러리에서 권장하고 있는 부분입니다. 학습 내용과는 무관합니다.\n",
    "os.environ['OPENBLAS_NUM_THREADS']='1'\n",
    "os.environ['KMP_DUPLICATE_LIB_OK']='True'\n",
    "os.environ['MKL_NUM_THREADS']='1'"
   ]
  },
  {
   "cell_type": "code",
   "execution_count": 22,
   "id": "ffedf73e",
   "metadata": {},
   "outputs": [],
   "source": [
    "# Implicit AlternatingLeastSquares 모델의 선언\n",
    "als_model = AlternatingLeastSquares(factors=100, regularization=0.01, use_gpu=False, iterations=15, dtype=np.float32)"
   ]
  },
  {
   "cell_type": "code",
   "execution_count": 23,
   "id": "0806b897",
   "metadata": {},
   "outputs": [
    {
     "data": {
      "text/plain": [
       "<3628x6040 sparse matrix of type '<class 'numpy.int64'>'\n",
       "\twith 836483 stored elements in Compressed Sparse Column format>"
      ]
     },
     "execution_count": 23,
     "metadata": {},
     "output_type": "execute_result"
    }
   ],
   "source": [
    "# als 모델은 input으로 (item X user 꼴의 matrix를 받기 때문에 Transpose해줍니다.)\n",
    "csr_data_transpose = csr_data.T\n",
    "csr_data_transpose"
   ]
  },
  {
   "cell_type": "code",
   "execution_count": 24,
   "id": "454f500c",
   "metadata": {},
   "outputs": [
    {
     "data": {
      "application/vnd.jupyter.widget-view+json": {
       "model_id": "6515a10c9f0a4d9dbf0f519b9b697f3d",
       "version_major": 2,
       "version_minor": 0
      },
      "text/plain": [
       "  0%|          | 0/15 [00:00<?, ?it/s]"
      ]
     },
     "metadata": {},
     "output_type": "display_data"
    }
   ],
   "source": [
    "# 모델 훈련\n",
    "als_model.fit(csr_data_transpose)"
   ]
  },
  {
   "cell_type": "markdown",
   "id": "1fcedcac",
   "metadata": {},
   "source": [
    "## 6. 훈련 모델이 예측한 나의 선호도 파악"
   ]
  },
  {
   "cell_type": "code",
   "execution_count": 27,
   "id": "21f774d5",
   "metadata": {},
   "outputs": [
    {
     "data": {
      "text/plain": [
       "array([ 0.04075857,  0.3744514 , -0.27003548,  0.41674805,  0.2536449 ,\n",
       "       -0.1908198 , -1.0303776 , -0.8233736 ,  0.06573096,  0.52096367,\n",
       "       -0.61130357,  0.6535155 ,  0.2302155 ,  0.6183274 ,  0.16697983,\n",
       "       -0.600277  , -0.45353276, -0.26871783,  0.3179338 ,  0.00967019,\n",
       "        0.74171233, -0.13740362, -0.4608095 ,  0.28155845, -0.1620554 ,\n",
       "        0.4192723 , -0.16297606, -0.02687179, -0.33476195,  0.19409572,\n",
       "        0.05318561,  0.87604123,  0.27230695, -0.14381406, -0.79486763,\n",
       "       -0.8004102 , -0.10094889,  0.3311126 ,  0.02353918,  0.59430426,\n",
       "        0.25930816,  0.42931125, -0.66051257, -0.27254266,  0.15132022,\n",
       "       -1.0191859 ,  0.15146452, -0.37466997,  0.537797  ,  0.7028465 ,\n",
       "       -0.66290563,  0.22502647,  0.18520996, -0.70441103,  1.63987   ,\n",
       "       -0.16154376, -0.6186564 , -0.5279434 , -0.19384474, -0.22665864,\n",
       "       -0.05212646,  0.8372588 , -0.8345463 ,  0.1917867 ,  1.0944096 ,\n",
       "        0.06936143, -0.02084614,  0.4036667 ,  0.08575428, -0.04185141,\n",
       "       -0.91452515,  0.8683264 ,  0.16596162, -0.3844839 ,  0.1014073 ,\n",
       "        0.26810777,  0.465042  ,  0.3615056 ,  0.43695948, -0.72790396,\n",
       "       -0.06449579, -0.6518245 ,  0.57921547,  0.46186668, -0.2418795 ,\n",
       "       -0.4542121 ,  0.03672093,  0.08618675,  0.63023883, -0.6607506 ,\n",
       "       -0.5288839 ,  0.8552297 ,  0.9819972 , -0.2907193 , -0.33061665,\n",
       "        0.38291794, -0.2912361 ,  0.89558333, -0.07002179, -0.84427994],\n",
       "      dtype=float32)"
      ]
     },
     "execution_count": 27,
     "metadata": {},
     "output_type": "execute_result"
    }
   ],
   "source": [
    "# 내가 선호하는 영화\n",
    "ws, Matrix = user_to_idx['ws'], movie_to_idx['Matrix (1999)']\n",
    "ws_vector, Matrix_vector = als_model.user_factors[ws], als_model.item_factors[Matrix]\n",
    "\n",
    "ws_vector"
   ]
  },
  {
   "cell_type": "code",
   "execution_count": 28,
   "id": "457d10d5",
   "metadata": {},
   "outputs": [
    {
     "data": {
      "text/plain": [
       "array([ 0.01352236,  0.02332378, -0.02199415,  0.02541124,  0.01201019,\n",
       "       -0.00259323, -0.02686229, -0.01125575,  0.02049573,  0.00938175,\n",
       "        0.00633568,  0.04389724, -0.00011668, -0.00781899,  0.00927566,\n",
       "       -0.00032802, -0.0248587 ,  0.03101616,  0.01432049, -0.00808233,\n",
       "        0.01513345,  0.00896645, -0.01917361,  0.01756753,  0.00060591,\n",
       "        0.01599445, -0.00323325, -0.00052188,  0.00593243,  0.00269389,\n",
       "       -0.00646979,  0.0049224 ,  0.01537833, -0.00889848, -0.0030751 ,\n",
       "       -0.00967646, -0.00240522, -0.00783247,  0.01215429,  0.04126461,\n",
       "        0.00486668,  0.0117424 , -0.01825899, -0.00783046, -0.00416893,\n",
       "        0.01587504,  0.00744839, -0.01390404, -0.00386901,  0.01555301,\n",
       "       -0.01578207,  0.01832595,  0.00641469, -0.0434703 ,  0.04071029,\n",
       "        0.00742438, -0.01708283,  0.0193011 , -0.01103148, -0.00612076,\n",
       "       -0.00707412, -0.00996691, -0.0056034 ,  0.04474783,  0.02464409,\n",
       "        0.0038813 ,  0.01746648,  0.01379651, -0.00305058, -0.01893198,\n",
       "       -0.00033972,  0.01551591,  0.02729868, -0.00162089,  0.00716406,\n",
       "        0.02737003,  0.01276392,  0.0176709 ,  0.01267005,  0.00316849,\n",
       "        0.02019136, -0.00532808,  0.02330059,  0.0162497 ,  0.00059607,\n",
       "        0.00054012,  0.00913239, -0.00767352,  0.01517027,  0.01579832,\n",
       "        0.00171497,  0.02049363,  0.02815362, -0.00980899,  0.00778587,\n",
       "        0.02167169,  0.00257862,  0.02833327,  0.01026446, -0.02564521],\n",
       "      dtype=float32)"
      ]
     },
     "execution_count": 28,
     "metadata": {},
     "output_type": "execute_result"
    }
   ],
   "source": [
    "Matrix_vector"
   ]
  },
  {
   "cell_type": "code",
   "execution_count": 29,
   "id": "6c095c48",
   "metadata": {},
   "outputs": [
    {
     "data": {
      "text/plain": [
       "0.5087195"
      ]
     },
     "execution_count": 29,
     "metadata": {},
     "output_type": "execute_result"
    }
   ],
   "source": [
    "# ws와 Matrix를 내적하는 코드\n",
    "np.dot(ws_vector, Matrix_vector)"
   ]
  },
  {
   "cell_type": "code",
   "execution_count": 30,
   "id": "236c867c",
   "metadata": {},
   "outputs": [
    {
     "data": {
      "text/plain": [
       "0.06555245"
      ]
     },
     "execution_count": 30,
     "metadata": {},
     "output_type": "execute_result"
    }
   ],
   "source": [
    "# 다른 영화에 대해 어떻게 예측할지 확인\n",
    "Godfather = movie_to_idx['Godfather (1972)']\n",
    "Godfather_vector = als_model.item_factors[Godfather]\n",
    "np.dot(ws_vector, Godfather_vector) "
   ]
  },
  {
   "cell_type": "markdown",
   "id": "54873b4f",
   "metadata": {},
   "source": [
    "## 7. 내가 좋아하는 영화와 비슷한 영화를 추천받기"
   ]
  },
  {
   "cell_type": "markdown",
   "id": "d22e4740",
   "metadata": {},
   "source": [
    "* AlternatingLeastSquares 클래스에 구현되어 있는 similar_items 메서드를 사용"
   ]
  },
  {
   "cell_type": "code",
   "execution_count": 49,
   "id": "d7ca1cc2",
   "metadata": {},
   "outputs": [
    {
     "data": {
      "text/plain": [
       "[(124, 0.99999994),\n",
       " (92, 0.8096528),\n",
       " (62, 0.68368053),\n",
       " (200, 0.57985634),\n",
       " (141, 0.55936265),\n",
       " (107, 0.55536634),\n",
       " (145, 0.5269561),\n",
       " (175, 0.49107453),\n",
       " (375, 0.48017824),\n",
       " (75, 0.46238944),\n",
       " (44, 0.4351607),\n",
       " (317, 0.42604202),\n",
       " (117, 0.40263215),\n",
       " (236, 0.38308364),\n",
       " (3156, 0.38102725)]"
      ]
     },
     "execution_count": 49,
     "metadata": {},
     "output_type": "execute_result"
    }
   ],
   "source": [
    "favorite_movie = 'Matrix (1999)'\n",
    "movie_id = movie_to_idx[favorite_movie]\n",
    "similar_movie = als_model.similar_items(movie_id, N=15)\n",
    "similar_movie"
   ]
  },
  {
   "cell_type": "code",
   "execution_count": 32,
   "id": "acc6ee89",
   "metadata": {},
   "outputs": [
    {
     "data": {
      "text/plain": [
       "['Matrix (1999)',\n",
       " 'Terminator 2: Judgment Day (1991)',\n",
       " 'Total Recall (1990)',\n",
       " 'Terminator (1984)',\n",
       " 'Fugitive (1993)',\n",
       " 'Jurassic Park (1993)',\n",
       " 'Fifth Element (1997)',\n",
       " 'Men in Black (1997)',\n",
       " 'Face/Off (1997)',\n",
       " 'Hunt for Red October (1990)',\n",
       " 'Star Wars: Episode IV - A New Hope (1977)',\n",
       " 'Twelve Monkeys (1995)',\n",
       " 'Star Wars: Episode V - The Empire Strikes Back (1980)',\n",
       " 'Speed (1994)',\n",
       " 'Running Free (2000)']"
      ]
     },
     "execution_count": 32,
     "metadata": {},
     "output_type": "execute_result"
    }
   ],
   "source": [
    "# movie_to_idx 를 뒤집어, index로부터 movie 이름을 얻는 dict를 생성합니다. \n",
    "idx_to_movie = {v:k for k,v in movie_to_idx.items()}\n",
    "[idx_to_movie[i[0]] for i in similar_movie]"
   ]
  },
  {
   "cell_type": "code",
   "execution_count": 33,
   "id": "c2cdc34b",
   "metadata": {},
   "outputs": [],
   "source": [
    "# 위의 코드를 함수로 만들기\n",
    "def get_similar_movie(movie_title: str):\n",
    "    movie_id = movie_to_idx[movie_title]\n",
    "    similar_movie = als_model.similar_items(movie_id, N=15)\n",
    "    similar_movie = [idx_to_movie[i[0]] for i in similar_movie]\n",
    "    return similar_movie"
   ]
  },
  {
   "cell_type": "code",
   "execution_count": 34,
   "id": "676d0a38",
   "metadata": {},
   "outputs": [
    {
     "data": {
      "text/plain": [
       "['Gladiator (2000)',\n",
       " 'Mission: Impossible 2 (2000)',\n",
       " 'Patriot (2000)',\n",
       " 'Perfect Storm (2000)',\n",
       " 'X-Men (2000)',\n",
       " 'U-571 (2000)',\n",
       " 'Gone in 60 Seconds (2000)',\n",
       " 'Frequency (2000)',\n",
       " 'Shanghai Noon (2000)',\n",
       " 'Romeo Must Die (2000)',\n",
       " 'Fight Club (1999)',\n",
       " 'Hamlet (2000)',\n",
       " 'Rules of Engagement (2000)',\n",
       " 'Chicken Run (2000)',\n",
       " 'Me, Myself and Irene (2000)']"
      ]
     },
     "execution_count": 34,
     "metadata": {},
     "output_type": "execute_result"
    }
   ],
   "source": [
    " get_similar_movie('Gladiator (2000)')"
   ]
  },
  {
   "cell_type": "markdown",
   "id": "b96ce4ef",
   "metadata": {},
   "source": [
    "* 비슷한 영화 목록이 이상하다. 다른 것들도 확인해본다."
   ]
  },
  {
   "cell_type": "code",
   "execution_count": 35,
   "id": "d8d5e002",
   "metadata": {},
   "outputs": [
    {
     "data": {
      "text/plain": [
       "['Toy Story (1995)',\n",
       " 'Toy Story 2 (1999)',\n",
       " \"Bug's Life (1998)\",\n",
       " 'Aladdin (1992)',\n",
       " 'Babe (1995)',\n",
       " 'Groundhog Day (1993)',\n",
       " \"There's Something About Mary (1998)\",\n",
       " 'Pleasantville (1998)',\n",
       " 'Lion King (1994)',\n",
       " 'Beauty and the Beast (1991)',\n",
       " 'Shakespeare in Love (1998)',\n",
       " 'Hercules (1997)',\n",
       " 'Santa Clause (1994)',\n",
       " 'Full Monty (1997)',\n",
       " 'Forrest Gump (1994)']"
      ]
     },
     "execution_count": 35,
     "metadata": {},
     "output_type": "execute_result"
    }
   ],
   "source": [
    "get_similar_movie('Toy Story (1995)')"
   ]
  },
  {
   "cell_type": "code",
   "execution_count": 36,
   "id": "cb100224",
   "metadata": {},
   "outputs": [
    {
     "data": {
      "text/plain": [
       "['Braveheart (1995)',\n",
       " 'Saving Private Ryan (1998)',\n",
       " 'Jurassic Park (1993)',\n",
       " 'Terminator 2: Judgment Day (1991)',\n",
       " \"Schindler's List (1993)\",\n",
       " 'Schlafes Bruder (Brother of Sleep) (1995)',\n",
       " 'Last of the Mohicans (1992)',\n",
       " 'Boat (Das Boot) (1981)',\n",
       " 'Men in Black (1997)',\n",
       " 'Legends of the Fall (1994)',\n",
       " 'Boogie Nights (1997)',\n",
       " 'Hunt for Red October (1990)',\n",
       " 'Fugitive (1993)',\n",
       " 'Make Them Die Slowly (Cannibal Ferox) (1980)',\n",
       " 'Matrix (1999)']"
      ]
     },
     "execution_count": 36,
     "metadata": {},
     "output_type": "execute_result"
    }
   ],
   "source": [
    "get_similar_movie('Braveheart (1995)')"
   ]
  },
  {
   "cell_type": "code",
   "execution_count": 37,
   "id": "11bece9f",
   "metadata": {},
   "outputs": [
    {
     "data": {
      "text/plain": [
       "['Usual Suspects (1995)',\n",
       " 'Reservoir Dogs (1992)',\n",
       " 'Pulp Fiction (1994)',\n",
       " 'L.A. Confidential (1997)',\n",
       " 'Seven (Se7en) (1995)',\n",
       " 'Fargo (1996)',\n",
       " 'GoodFellas (1990)',\n",
       " 'Silence of the Lambs (1991)',\n",
       " 'Simple Plan (1998)',\n",
       " 'Shawshank Redemption (1994)',\n",
       " 'Sixth Sense (1999)',\n",
       " 'Condition Red (1995)',\n",
       " 'Sling Blade (1996)',\n",
       " 'Professional (a.k.a. Leon: The Professional) (1994)',\n",
       " 'Lock, Stock & Two Smoking Barrels (1998)']"
      ]
     },
     "execution_count": 37,
     "metadata": {},
     "output_type": "execute_result"
    }
   ],
   "source": [
    "get_similar_movie('Usual Suspects (1995)')"
   ]
  },
  {
   "cell_type": "markdown",
   "id": "3ffe3be0",
   "metadata": {},
   "source": [
    "* 다른 것들은 좀 더 낫다."
   ]
  },
  {
   "cell_type": "markdown",
   "id": "dc28dc0b",
   "metadata": {},
   "source": [
    "## 8.  내가 가장 좋아할 만한 영화들을 추천받기"
   ]
  },
  {
   "cell_type": "code",
   "execution_count": 39,
   "id": "c3557502",
   "metadata": {},
   "outputs": [
    {
     "data": {
      "text/plain": [
       "[(48, 0.50075936),\n",
       " (92, 0.4856974),\n",
       " (141, 0.3935561),\n",
       " (224, 0.38651264),\n",
       " (346, 0.37076536),\n",
       " (38, 0.36830103),\n",
       " (50, 0.3499253),\n",
       " (75, 0.3150213),\n",
       " (482, 0.30207288),\n",
       " (372, 0.30157542),\n",
       " (121, 0.29500484),\n",
       " (222, 0.29246774),\n",
       " (157, 0.2830846),\n",
       " (107, 0.26517424),\n",
       " (248, 0.2490945),\n",
       " (289, 0.24212255),\n",
       " (220, 0.23789686),\n",
       " (4, 0.23553193),\n",
       " (126, 0.233955),\n",
       " (51, 0.23212096)]"
      ]
     },
     "execution_count": 39,
     "metadata": {},
     "output_type": "execute_result"
    }
   ],
   "source": [
    "user = user_to_idx['ws']\n",
    "# recommend에서는 user*item CSR Matrix를 받습니다.\n",
    "movie_recommended = als_model.recommend(user, csr_data, N=20, filter_already_liked_items=True)\n",
    "movie_recommended"
   ]
  },
  {
   "cell_type": "code",
   "execution_count": 41,
   "id": "e8b2d03a",
   "metadata": {},
   "outputs": [
    {
     "data": {
      "text/plain": [
       "['Saving Private Ryan (1998)',\n",
       " 'Terminator 2: Judgment Day (1991)',\n",
       " 'Fugitive (1993)',\n",
       " 'L.A. Confidential (1997)',\n",
       " 'Patriot (2000)',\n",
       " 'Sixth Sense (1999)',\n",
       " 'Toy Story 2 (1999)',\n",
       " 'Hunt for Red October (1990)',\n",
       " 'Mission: Impossible 2 (2000)',\n",
       " 'X-Men (2000)',\n",
       " 'Silence of the Lambs (1991)',\n",
       " 'Pulp Fiction (1994)',\n",
       " 'Shawshank Redemption (1994)',\n",
       " 'Jurassic Park (1993)',\n",
       " 'Good Will Hunting (1997)',\n",
       " 'Reservoir Dogs (1992)',\n",
       " 'Seven (Se7en) (1995)',\n",
       " \"Bug's Life (1998)\",\n",
       " 'Shakespeare in Love (1998)',\n",
       " 'Fargo (1996)']"
      ]
     },
     "execution_count": 41,
     "metadata": {},
     "output_type": "execute_result"
    }
   ],
   "source": [
    "[idx_to_movie[i[0]] for i in movie_recommended]"
   ]
  },
  {
   "cell_type": "code",
   "execution_count": 44,
   "id": "fc5ffd0b",
   "metadata": {},
   "outputs": [
    {
     "data": {
      "text/plain": [
       "[('Braveheart (1995)', 0.3475042015833578),\n",
       " ('Toy Story (1995)', 0.058579406838086254),\n",
       " ('Matrix (1999)', 0.05232497148921312),\n",
       " ('Gladiator (2000)', 0.04453268743278063),\n",
       " ('Usual Suspects (1995)', -0.009455883887337785)]"
      ]
     },
     "execution_count": 44,
     "metadata": {},
     "output_type": "execute_result"
    }
   ],
   "source": [
    "# 추천 기여도 확인\n",
    "spr = movie_to_idx['Saving Private Ryan (1998)']\n",
    "explain = als_model.explain(user, csr_data, itemid=spr)# explain : 추천한 콘텐츠의 점수에 기여한 다른 콘텐츠와 기여도(합이 콘텐츠의 점수가 됩니다.)를 반환\n",
    "[(idx_to_movie[i[0]], i[1]) for i in explain[1]]"
   ]
  },
  {
   "cell_type": "code",
   "execution_count": 45,
   "id": "6359702f",
   "metadata": {},
   "outputs": [
    {
     "data": {
      "text/plain": [
       "[('Matrix (1999)', 0.3004299989204403),\n",
       " ('Braveheart (1995)', 0.1387482798241208),\n",
       " ('Usual Suspects (1995)', 0.031858270749079695),\n",
       " ('Toy Story (1995)', 0.012462678282483628),\n",
       " ('Gladiator (2000)', -0.005094875000178693)]"
      ]
     },
     "execution_count": 45,
     "metadata": {},
     "output_type": "execute_result"
    }
   ],
   "source": [
    "t2 = movie_to_idx['Terminator 2: Judgment Day (1991)']\n",
    "explain = als_model.explain(user, csr_data, itemid=t2)\n",
    "[(idx_to_movie[i[0]], i[1]) for i in explain[1]]"
   ]
  },
  {
   "cell_type": "code",
   "execution_count": 46,
   "id": "d4b53e1b",
   "metadata": {},
   "outputs": [
    {
     "data": {
      "text/plain": [
       "[('Gladiator (2000)', 0.26696086200192193),\n",
       " ('Braveheart (1995)', 0.06503277283051585),\n",
       " ('Matrix (1999)', 0.029276177893240354),\n",
       " ('Toy Story (1995)', 0.01054455097292193),\n",
       " ('Usual Suspects (1995)', -0.007100797327211331)]"
      ]
     },
     "execution_count": 46,
     "metadata": {},
     "output_type": "execute_result"
    }
   ],
   "source": [
    "pa = movie_to_idx['Patriot (2000)']\n",
    "explain = als_model.explain(user, csr_data, itemid=pa)\n",
    "[(idx_to_movie[i[0]], i[1]) for i in explain[1]]"
   ]
  },
  {
   "cell_type": "code",
   "execution_count": 47,
   "id": "f93845e7",
   "metadata": {},
   "outputs": [
    {
     "data": {
      "text/plain": [
       "[('Gladiator (2000)', 0.20021257297990228),\n",
       " ('Matrix (1999)', 0.13218660735908516),\n",
       " ('Toy Story (1995)', 0.004156298953612303),\n",
       " ('Usual Suspects (1995)', -0.011053484304764556),\n",
       " ('Braveheart (1995)', -0.027343437788878173)]"
      ]
     },
     "execution_count": 47,
     "metadata": {},
     "output_type": "execute_result"
    }
   ],
   "source": [
    "xm = movie_to_idx['X-Men (2000)']\n",
    "explain = als_model.explain(user, csr_data, itemid=xm)\n",
    "[(idx_to_movie[i[0]], i[1]) for i in explain[1]]"
   ]
  },
  {
   "cell_type": "markdown",
   "id": "a26d9c30",
   "metadata": {},
   "source": [
    "* 'Gladiator'의 유사영화 추천 목록이 문제가 있었으므로, 그 기여도가 컸을 영화까지 확인해보았다.\n",
    "* 이 영화와 유사한 영화가 자료에 별로 없었던 것 같다. 아래에서 확인해본다."
   ]
  },
  {
   "cell_type": "code",
   "execution_count": 51,
   "id": "a883f132",
   "metadata": {},
   "outputs": [
    {
     "data": {
      "text/plain": [
       "[(67, 1.0000001),\n",
       " (482, 0.6445144),\n",
       " (346, 0.62556595),\n",
       " (746, 0.54905796),\n",
       " (372, 0.48011428),\n",
       " (1537, 0.47944364),\n",
       " (327, 0.4773962),\n",
       " (463, 0.44334835),\n",
       " (300, 0.44274238),\n",
       " (1737, 0.37012982),\n",
       " (273, 0.35390022),\n",
       " (2410, 0.35041845),\n",
       " (464, 0.34107658),\n",
       " (474, 0.3372565),\n",
       " (1027, 0.33427197)]"
      ]
     },
     "execution_count": 51,
     "metadata": {},
     "output_type": "execute_result"
    }
   ],
   "source": [
    "favorite_movie = 'Gladiator (2000)'\n",
    "movie_id = movie_to_idx[favorite_movie]\n",
    "similar_movie = als_model.similar_items(movie_id, N=15)\n",
    "similar_movie"
   ]
  },
  {
   "cell_type": "markdown",
   "id": "e2e9201a",
   "metadata": {},
   "source": [
    "## 회고\n",
    "\n",
    "* 평소 추천 시스템을 반신반의 하는지라 시작할 때 그리 많은 관심이 가지는 않았다. 결과는 딱 이 지점으로 회귀했다.\n",
    "* 2000년 작 글래디에이터의 유사영화 추천 목록은 의심을 증폭시켰다. 유사한 것으로 보이는 영화들도 있었지만, 개봉연도가 같은 것을 제외하면 유사점이 잘 안 보이는 것들도 있었다.\n",
    "* 선호 영화 다섯개를 기반으로 한 영화 추천 목록과 그 추천에 대한 각각 영화의 기여도를 몇 개 확인해보자 그 의심이 조금 풀렸다. 우선 글래디에이터 유사영화에서 전혀 뜬금 없던 것은 걸러졌다. 다른 영화들의 영향으로 보인다.\n",
    "* 글래디에이터의 기여가 가장 컸을 것으로 생각되는 추천작 패트리어트(2000)와 엑스맨(2000)의 기여도를 확인해보니 다른 것들에 비해 기여도가 큰 영화의 영향력이 적다. 특히 유사목록에는 있었지만 개봉연도 빼고는 유사점이 없었던 엑스맨은 매트릭스의 영향을 많이 받아 추천작에 포함 된 것으로 보인다. \n",
    "* 위와 같은 결과는 데이터에 글래디에이터와 유사한 영화가 별로 없었기 때문에 그나마 유사한 개봉연도가 유사도에 많이 기여한 것이 아닌가 한다. 실제로 이 영화의 유사작들의 유사도를 확인해 본 결과 유사 목록의 유사함이 나았던 매트릭스에 비해 유사도가 다소 떨어지는 것이 확인되었다.\n",
    "* 추천시스템을 유의미하게 사용하려면, 많은 데이터를 확보하는 것이 유의미해 보이며, 상호보완해야 함을 알 수 있었다.\n",
    "* 또한 유저의 니즈를 좀 더 파악하고 아이템의 성격을 더 잘 알아야 할 것 같다. 이를테면 상위에 추천된 2000년 작 패트리어트의 경우, 거대한 힘에 맞선 영웅의 이야기라는 점에서 글래디에이터와 비슷한 얼개를 가진 작품이지만, 각색이 심하다 못해 역사왜곡에 이른 작품임을 알기에 선뜻 선택하기 힘든 작품이었다. 이런 점들도 모두 데이터라는 점에서 역시 모델보다는 데이터가 중요하다는 것을 다시 한 번 느낀다. "
   ]
  },
  {
   "cell_type": "code",
   "execution_count": null,
   "id": "462b3921",
   "metadata": {},
   "outputs": [],
   "source": []
  }
 ],
 "metadata": {
  "kernelspec": {
   "display_name": "Python 3 (ipykernel)",
   "language": "python",
   "name": "python3"
  },
  "language_info": {
   "codemirror_mode": {
    "name": "ipython",
    "version": 3
   },
   "file_extension": ".py",
   "mimetype": "text/x-python",
   "name": "python",
   "nbconvert_exporter": "python",
   "pygments_lexer": "ipython3",
   "version": "3.9.7"
  }
 },
 "nbformat": 4,
 "nbformat_minor": 5
}
